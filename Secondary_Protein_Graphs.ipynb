{
 "cells": [
  {
   "cell_type": "markdown",
   "metadata": {},
   "source": [
    "# Secondary Protein Analysis"
   ]
  },
  {
   "cell_type": "code",
   "execution_count": 2,
   "metadata": {},
   "outputs": [],
   "source": [
    "%load_ext autoreload\n",
    "\n",
    "%autoreload 2"
   ]
  },
  {
   "cell_type": "code",
   "execution_count": 3,
   "metadata": {},
   "outputs": [],
   "source": [
    "import numpy as np\n",
    "import pandas as pd\n",
    "import matplotlib.pyplot as plt"
   ]
  },
  {
   "cell_type": "code",
   "execution_count": 4,
   "metadata": {
    "collapsed": true,
    "scrolled": false
   },
   "outputs": [],
   "source": [
    "file_place = r\"C:\\Users\\Conor\\DataSets\"\n",
    "\n",
    "Breast_DF = pd.read_pickle(file_place + r\"\\Breast_data_raw\")"
   ]
  },
  {
   "cell_type": "code",
   "execution_count": 5,
   "metadata": {},
   "outputs": [],
   "source": [
    "import os\n",
    "\n",
    "Secondary_Proteins = pd.read_pickle(os.path.join(os.getcwd(), \"Secondary_Proteins\"))"
   ]
  },
  {
   "cell_type": "code",
   "execution_count": 6,
   "metadata": {},
   "outputs": [
    {
     "data": {
      "text/html": [
       "<div>\n",
       "<style scoped>\n",
       "    .dataframe tbody tr th:only-of-type {\n",
       "        vertical-align: middle;\n",
       "    }\n",
       "\n",
       "    .dataframe tbody tr th {\n",
       "        vertical-align: top;\n",
       "    }\n",
       "\n",
       "    .dataframe thead th {\n",
       "        text-align: right;\n",
       "    }\n",
       "</style>\n",
       "<table border=\"1\" class=\"dataframe\">\n",
       "  <thead>\n",
       "    <tr style=\"text-align: right;\">\n",
       "      <th></th>\n",
       "      <th>912</th>\n",
       "      <th>916</th>\n",
       "      <th>920</th>\n",
       "      <th>924</th>\n",
       "      <th>928</th>\n",
       "      <th>932</th>\n",
       "      <th>936</th>\n",
       "      <th>940</th>\n",
       "      <th>944</th>\n",
       "      <th>948</th>\n",
       "      <th>...</th>\n",
       "      <th>1764</th>\n",
       "      <th>1768</th>\n",
       "      <th>1772</th>\n",
       "      <th>1776</th>\n",
       "      <th>1780</th>\n",
       "      <th>1784</th>\n",
       "      <th>1788</th>\n",
       "      <th>1792</th>\n",
       "      <th>1796</th>\n",
       "      <th>1800</th>\n",
       "    </tr>\n",
       "    <tr>\n",
       "      <th>level_0</th>\n",
       "      <th></th>\n",
       "      <th></th>\n",
       "      <th></th>\n",
       "      <th></th>\n",
       "      <th></th>\n",
       "      <th></th>\n",
       "      <th></th>\n",
       "      <th></th>\n",
       "      <th></th>\n",
       "      <th></th>\n",
       "      <th></th>\n",
       "      <th></th>\n",
       "      <th></th>\n",
       "      <th></th>\n",
       "      <th></th>\n",
       "      <th></th>\n",
       "      <th></th>\n",
       "      <th></th>\n",
       "      <th></th>\n",
       "      <th></th>\n",
       "      <th></th>\n",
       "    </tr>\n",
       "  </thead>\n",
       "  <tbody>\n",
       "    <tr>\n",
       "      <th>DNA</th>\n",
       "      <td>0.003690</td>\n",
       "      <td>0.003693</td>\n",
       "      <td>0.003696</td>\n",
       "      <td>0.003700</td>\n",
       "      <td>0.003703</td>\n",
       "      <td>0.003695</td>\n",
       "      <td>0.003669</td>\n",
       "      <td>0.003643</td>\n",
       "      <td>0.003617</td>\n",
       "      <td>0.003591</td>\n",
       "      <td>...</td>\n",
       "      <td>0.003779</td>\n",
       "      <td>0.003760</td>\n",
       "      <td>0.003741</td>\n",
       "      <td>0.003723</td>\n",
       "      <td>0.003704</td>\n",
       "      <td>0.003685</td>\n",
       "      <td>0.003675</td>\n",
       "      <td>0.003667</td>\n",
       "      <td>0.003659</td>\n",
       "      <td>0.003651</td>\n",
       "    </tr>\n",
       "    <tr>\n",
       "      <th>Glycogen</th>\n",
       "      <td>0.004341</td>\n",
       "      <td>0.004346</td>\n",
       "      <td>0.004337</td>\n",
       "      <td>0.004327</td>\n",
       "      <td>0.004318</td>\n",
       "      <td>0.004308</td>\n",
       "      <td>0.004299</td>\n",
       "      <td>0.004294</td>\n",
       "      <td>0.004290</td>\n",
       "      <td>0.004287</td>\n",
       "      <td>...</td>\n",
       "      <td>0.004282</td>\n",
       "      <td>0.004284</td>\n",
       "      <td>0.004286</td>\n",
       "      <td>0.004288</td>\n",
       "      <td>0.004289</td>\n",
       "      <td>0.004289</td>\n",
       "      <td>0.004289</td>\n",
       "      <td>0.004289</td>\n",
       "      <td>0.004289</td>\n",
       "      <td>0.004291</td>\n",
       "    </tr>\n",
       "    <tr>\n",
       "      <th>Lipid</th>\n",
       "      <td>0.004293</td>\n",
       "      <td>0.004297</td>\n",
       "      <td>0.004301</td>\n",
       "      <td>0.004305</td>\n",
       "      <td>0.004308</td>\n",
       "      <td>0.004312</td>\n",
       "      <td>0.004317</td>\n",
       "      <td>0.004331</td>\n",
       "      <td>0.004345</td>\n",
       "      <td>0.004359</td>\n",
       "      <td>...</td>\n",
       "      <td>0.004465</td>\n",
       "      <td>0.004407</td>\n",
       "      <td>0.004350</td>\n",
       "      <td>0.004297</td>\n",
       "      <td>0.004284</td>\n",
       "      <td>0.004270</td>\n",
       "      <td>0.004257</td>\n",
       "      <td>0.004244</td>\n",
       "      <td>0.004231</td>\n",
       "      <td>0.004218</td>\n",
       "    </tr>\n",
       "    <tr>\n",
       "      <th>Protein</th>\n",
       "      <td>0.000817</td>\n",
       "      <td>0.000797</td>\n",
       "      <td>0.000777</td>\n",
       "      <td>0.000756</td>\n",
       "      <td>0.000736</td>\n",
       "      <td>0.000715</td>\n",
       "      <td>0.000705</td>\n",
       "      <td>0.000705</td>\n",
       "      <td>0.000705</td>\n",
       "      <td>0.000705</td>\n",
       "      <td>...</td>\n",
       "      <td>0.001057</td>\n",
       "      <td>0.001057</td>\n",
       "      <td>0.001057</td>\n",
       "      <td>0.001057</td>\n",
       "      <td>0.001057</td>\n",
       "      <td>0.001057</td>\n",
       "      <td>0.001057</td>\n",
       "      <td>0.001057</td>\n",
       "      <td>0.001057</td>\n",
       "      <td>0.001057</td>\n",
       "    </tr>\n",
       "    <tr>\n",
       "      <th>RNA</th>\n",
       "      <td>0.003463</td>\n",
       "      <td>0.003456</td>\n",
       "      <td>0.003449</td>\n",
       "      <td>0.003442</td>\n",
       "      <td>0.003435</td>\n",
       "      <td>0.003439</td>\n",
       "      <td>0.003448</td>\n",
       "      <td>0.003457</td>\n",
       "      <td>0.003466</td>\n",
       "      <td>0.003476</td>\n",
       "      <td>...</td>\n",
       "      <td>0.003754</td>\n",
       "      <td>0.003682</td>\n",
       "      <td>0.003622</td>\n",
       "      <td>0.003561</td>\n",
       "      <td>0.003501</td>\n",
       "      <td>0.003445</td>\n",
       "      <td>0.003439</td>\n",
       "      <td>0.003433</td>\n",
       "      <td>0.003427</td>\n",
       "      <td>0.003421</td>\n",
       "    </tr>\n",
       "  </tbody>\n",
       "</table>\n",
       "<p>5 rows × 223 columns</p>\n",
       "</div>"
      ],
      "text/plain": [
       "              912       916       920       924       928       932   \\\n",
       "level_0                                                                \n",
       "DNA       0.003690  0.003693  0.003696  0.003700  0.003703  0.003695   \n",
       "Glycogen  0.004341  0.004346  0.004337  0.004327  0.004318  0.004308   \n",
       "Lipid     0.004293  0.004297  0.004301  0.004305  0.004308  0.004312   \n",
       "Protein   0.000817  0.000797  0.000777  0.000756  0.000736  0.000715   \n",
       "RNA       0.003463  0.003456  0.003449  0.003442  0.003435  0.003439   \n",
       "\n",
       "              936       940       944       948   ...      1764      1768  \\\n",
       "level_0                                           ...                       \n",
       "DNA       0.003669  0.003643  0.003617  0.003591  ...  0.003779  0.003760   \n",
       "Glycogen  0.004299  0.004294  0.004290  0.004287  ...  0.004282  0.004284   \n",
       "Lipid     0.004317  0.004331  0.004345  0.004359  ...  0.004465  0.004407   \n",
       "Protein   0.000705  0.000705  0.000705  0.000705  ...  0.001057  0.001057   \n",
       "RNA       0.003448  0.003457  0.003466  0.003476  ...  0.003754  0.003682   \n",
       "\n",
       "              1772      1776      1780      1784      1788      1792  \\\n",
       "level_0                                                                \n",
       "DNA       0.003741  0.003723  0.003704  0.003685  0.003675  0.003667   \n",
       "Glycogen  0.004286  0.004288  0.004289  0.004289  0.004289  0.004289   \n",
       "Lipid     0.004350  0.004297  0.004284  0.004270  0.004257  0.004244   \n",
       "Protein   0.001057  0.001057  0.001057  0.001057  0.001057  0.001057   \n",
       "RNA       0.003622  0.003561  0.003501  0.003445  0.003439  0.003433   \n",
       "\n",
       "              1796      1800  \n",
       "level_0                       \n",
       "DNA       0.003659  0.003651  \n",
       "Glycogen  0.004289  0.004291  \n",
       "Lipid     0.004231  0.004218  \n",
       "Protein   0.001057  0.001057  \n",
       "RNA       0.003427  0.003421  \n",
       "\n",
       "[5 rows x 223 columns]"
      ]
     },
     "execution_count": 6,
     "metadata": {},
     "output_type": "execute_result"
    }
   ],
   "source": [
    "Secondary_Proteins"
   ]
  },
  {
   "cell_type": "code",
   "execution_count": 7,
   "metadata": {},
   "outputs": [],
   "source": [
    "Breast_Secondary_Proteins = pd.DataFrame(np.matmul(Breast_DF.values, Secondary_Proteins.values.T)\n",
    "                                         , index = Breast_DF.index, columns = Secondary_Proteins.index)"
   ]
  },
  {
   "cell_type": "code",
   "execution_count": 71,
   "metadata": {},
   "outputs": [
    {
     "data": {
      "text/html": [
       "<div>\n",
       "<style scoped>\n",
       "    .dataframe tbody tr th:only-of-type {\n",
       "        vertical-align: middle;\n",
       "    }\n",
       "\n",
       "    .dataframe tbody tr th {\n",
       "        vertical-align: top;\n",
       "    }\n",
       "\n",
       "    .dataframe thead th {\n",
       "        text-align: right;\n",
       "    }\n",
       "</style>\n",
       "<table border=\"1\" class=\"dataframe\">\n",
       "  <thead>\n",
       "    <tr style=\"text-align: right;\">\n",
       "      <th></th>\n",
       "      <th></th>\n",
       "      <th></th>\n",
       "      <th></th>\n",
       "      <th></th>\n",
       "      <th></th>\n",
       "      <th></th>\n",
       "      <th>level_0</th>\n",
       "      <th>DNA</th>\n",
       "      <th>Glycogen</th>\n",
       "      <th>Lipid</th>\n",
       "      <th>Protein</th>\n",
       "      <th>RNA</th>\n",
       "    </tr>\n",
       "    <tr>\n",
       "      <th>Sex</th>\n",
       "      <th>Type</th>\n",
       "      <th>Stage</th>\n",
       "      <th>Pathology</th>\n",
       "      <th>Grade</th>\n",
       "      <th>Label</th>\n",
       "      <th>Age</th>\n",
       "      <th>Core</th>\n",
       "      <th></th>\n",
       "      <th></th>\n",
       "      <th></th>\n",
       "      <th></th>\n",
       "      <th></th>\n",
       "    </tr>\n",
       "  </thead>\n",
       "  <tbody>\n",
       "    <tr>\n",
       "      <th rowspan=\"5\" valign=\"top\">F</th>\n",
       "      <th rowspan=\"5\" valign=\"top\">Malignant</th>\n",
       "      <th rowspan=\"5\" valign=\"top\">IIa</th>\n",
       "      <th rowspan=\"5\" valign=\"top\">Invasive ductal carcinoma</th>\n",
       "      <th rowspan=\"5\" valign=\"top\">1</th>\n",
       "      <th rowspan=\"5\" valign=\"top\">Blood</th>\n",
       "      <th rowspan=\"5\" valign=\"top\">40</th>\n",
       "      <th>B4</th>\n",
       "      <td>0.180650</td>\n",
       "      <td>0.173750</td>\n",
       "      <td>0.174208</td>\n",
       "      <td>0.267604</td>\n",
       "      <td>0.185834</td>\n",
       "    </tr>\n",
       "    <tr>\n",
       "      <th>B4</th>\n",
       "      <td>0.179921</td>\n",
       "      <td>0.173046</td>\n",
       "      <td>0.173463</td>\n",
       "      <td>0.267052</td>\n",
       "      <td>0.185071</td>\n",
       "    </tr>\n",
       "    <tr>\n",
       "      <th>B4</th>\n",
       "      <td>0.177945</td>\n",
       "      <td>0.171137</td>\n",
       "      <td>0.171430</td>\n",
       "      <td>0.265571</td>\n",
       "      <td>0.182998</td>\n",
       "    </tr>\n",
       "    <tr>\n",
       "      <th>B4</th>\n",
       "      <td>0.174843</td>\n",
       "      <td>0.168128</td>\n",
       "      <td>0.168226</td>\n",
       "      <td>0.263124</td>\n",
       "      <td>0.179727</td>\n",
       "    </tr>\n",
       "    <tr>\n",
       "      <th>B4</th>\n",
       "      <td>0.171194</td>\n",
       "      <td>0.164579</td>\n",
       "      <td>0.164437</td>\n",
       "      <td>0.260100</td>\n",
       "      <td>0.175862</td>\n",
       "    </tr>\n",
       "  </tbody>\n",
       "</table>\n",
       "</div>"
      ],
      "text/plain": [
       "level_0                                                                  DNA  \\\n",
       "Sex Type      Stage Pathology                 Grade Label Age Core             \n",
       "F   Malignant IIa   Invasive ductal carcinoma 1     Blood 40  B4    0.180650   \n",
       "                                                              B4    0.179921   \n",
       "                                                              B4    0.177945   \n",
       "                                                              B4    0.174843   \n",
       "                                                              B4    0.171194   \n",
       "\n",
       "level_0                                                             Glycogen  \\\n",
       "Sex Type      Stage Pathology                 Grade Label Age Core             \n",
       "F   Malignant IIa   Invasive ductal carcinoma 1     Blood 40  B4    0.173750   \n",
       "                                                              B4    0.173046   \n",
       "                                                              B4    0.171137   \n",
       "                                                              B4    0.168128   \n",
       "                                                              B4    0.164579   \n",
       "\n",
       "level_0                                                                Lipid  \\\n",
       "Sex Type      Stage Pathology                 Grade Label Age Core             \n",
       "F   Malignant IIa   Invasive ductal carcinoma 1     Blood 40  B4    0.174208   \n",
       "                                                              B4    0.173463   \n",
       "                                                              B4    0.171430   \n",
       "                                                              B4    0.168226   \n",
       "                                                              B4    0.164437   \n",
       "\n",
       "level_0                                                              Protein  \\\n",
       "Sex Type      Stage Pathology                 Grade Label Age Core             \n",
       "F   Malignant IIa   Invasive ductal carcinoma 1     Blood 40  B4    0.267604   \n",
       "                                                              B4    0.267052   \n",
       "                                                              B4    0.265571   \n",
       "                                                              B4    0.263124   \n",
       "                                                              B4    0.260100   \n",
       "\n",
       "level_0                                                                  RNA  \n",
       "Sex Type      Stage Pathology                 Grade Label Age Core            \n",
       "F   Malignant IIa   Invasive ductal carcinoma 1     Blood 40  B4    0.185834  \n",
       "                                                              B4    0.185071  \n",
       "                                                              B4    0.182998  \n",
       "                                                              B4    0.179727  \n",
       "                                                              B4    0.175862  "
      ]
     },
     "execution_count": 71,
     "metadata": {},
     "output_type": "execute_result"
    }
   ],
   "source": [
    "Breast_Secondary_Proteins.head()"
   ]
  },
  {
   "cell_type": "markdown",
   "metadata": {},
   "source": [
    "# LDA"
   ]
  },
  {
   "cell_type": "code",
   "execution_count": 30,
   "metadata": {},
   "outputs": [],
   "source": [
    "from sklearn.discriminant_analysis import LinearDiscriminantAnalysis"
   ]
  },
  {
   "cell_type": "code",
   "execution_count": 80,
   "metadata": {},
   "outputs": [],
   "source": [
    "LDA_df = pd.DataFrame(LinearDiscriminantAnalysis(n_components = 1).fit_transform(Breast_Secondary_Proteins.values,\n",
    "                                                                    Breast_Secondary_Proteins.reset_index()[\"Grade\"]), index = Breast_Secondary_Proteins.index)"
   ]
  },
  {
   "cell_type": "code",
   "execution_count": 89,
   "metadata": {},
   "outputs": [
    {
     "data": {
      "image/png": "[encoded data removed]",
      "text/plain": [
       "<Figure size 432x288 with 1 Axes>"
      ]
     },
     "metadata": {},
     "output_type": "display_data"
    }
   ],
   "source": [
    "plt.clf()\n",
    "plt.title(\"Metadata column\")\n",
    "\n",
    "for name, df in LDA_df.groupby(level = \"Grade\"):\n",
    "    \n",
    "    sample = df.values.reshape(-1,1)\n",
    "    \n",
    "    plt.hist(sample, label = name, histtype = \"step\", bins  = 20, density = True)\n",
    "    \n",
    "    #plt.scatter(sample[0], sample[1], label = name, alpha = 0.5, s  = 2)\n",
    "    \n",
    "plt.legend()\n",
    "plt.show()"
   ]
  },
  {
   "cell_type": "code",
   "execution_count": 90,
   "metadata": {},
   "outputs": [
    {
     "data": {
      "text/plain": [
       "<Figure size 432x288 with 0 Axes>"
      ]
     },
     "metadata": {},
     "output_type": "display_data"
    },
    {
     "data": {
      "image/png": "[encoded data removed]",
      "text/plain": [
       "<Figure size 720x720 with 1 Axes>"
      ]
     },
     "metadata": {},
     "output_type": "display_data"
    }
   ],
   "source": [
    "plt.clf()\n",
    "fig = plt.figure(figsize = (10,10))\n",
    "fig.patch.set_facecolor([1,1,1])\n",
    "\n",
    "\n",
    "\n",
    "for name, df in Breast_Secondary_Proteins.groupby(\"Type\"):\n",
    "    \n",
    "    plt.hist(df[\"Glycogen\"], label = name, histtype = \"step\", density = True, bins = 50)\n",
    "    #plt.scatter(df[\"RNA\"], df[\"Protein\"], label = name, s  = 2)\n",
    "\n",
    "plt.xlabel(\"Absorbance (arb.units)\")\n",
    "plt.ylabel(\"Frequency\")\n",
    "\n",
    "plt.legend()\n",
    "plt.show()"
   ]
  },
  {
   "cell_type": "code",
   "execution_count": 10,
   "metadata": {},
   "outputs": [
    {
     "name": "stderr",
     "output_type": "stream",
     "text": [
      "C:\\Users\\Conor\\Anaconda3\\lib\\importlib\\_bootstrap.py:219: ImportWarning: can't resolve package from __spec__ or __package__, falling back on __name__ and __path__\n",
      "  return f(*args, **kwds)\n",
      "C:\\Users\\Conor\\Anaconda3\\lib\\importlib\\_bootstrap.py:219: ImportWarning: can't resolve package from __spec__ or __package__, falling back on __name__ and __path__\n",
      "  return f(*args, **kwds)\n",
      "C:\\Users\\Conor\\Anaconda3\\lib\\importlib\\_bootstrap.py:219: ImportWarning: can't resolve package from __spec__ or __package__, falling back on __name__ and __path__\n",
      "  return f(*args, **kwds)\n",
      "C:\\Users\\Conor\\Anaconda3\\lib\\importlib\\_bootstrap.py:219: ImportWarning: can't resolve package from __spec__ or __package__, falling back on __name__ and __path__\n",
      "  return f(*args, **kwds)\n",
      "C:\\Users\\Conor\\Anaconda3\\lib\\site-packages\\scipy\\_lib\\_numpy_compat.py:10: DeprecationWarning: Importing from numpy.testing.nosetester is deprecated since 1.15.0, import from numpy.testing instead.\n",
      "  from numpy.testing.nosetester import import_nose\n",
      "C:\\Users\\Conor\\Anaconda3\\lib\\site-packages\\scipy\\stats\\morestats.py:12: DeprecationWarning: Importing from numpy.testing.decorators is deprecated since numpy 1.15.0, import from numpy.testing instead.\n",
      "  from numpy.testing.decorators import setastest\n"
     ]
    }
   ],
   "source": [
    "from sklearn.discriminant_analysis import LinearDiscriminantAnalysis"
   ]
  },
  {
   "cell_type": "code",
   "execution_count": 11,
   "metadata": {
    "collapsed": true,
    "scrolled": true
   },
   "outputs": [
    {
     "name": "stderr",
     "output_type": "stream",
     "text": [
      "C:\\Users\\Conor\\Anaconda3\\lib\\importlib\\_bootstrap.py:219: ImportWarning: can't resolve package from __spec__ or __package__, falling back on __name__ and __path__\n",
      "  return f(*args, **kwds)\n"
     ]
    }
   ],
   "source": [
    "import os\n",
    "from scipy.io import loadmat\n",
    "\n",
    "file_place = r\"C:\\Users\\Conor\\Desktop\\Breast Cancer Data\\br20832_cores\\br20832_cores\"\n",
    "file_list = os.listdir(file_place)\n",
    "\n",
    "image_list_directory = r\"C:\\Users\\Conor\\Desktop\\Breast Cancer Data\\overlay\\overlay\"\n",
    "image_list = os.listdir(image_list_directory)\n",
    "\n",
    "images = {file_name[:-4] : loadmat(os.path.join(file_place, file_name)) for file_name in file_list[:3]}"
   ]
  },
  {
   "cell_type": "code",
   "execution_count": 12,
   "metadata": {},
   "outputs": [
    {
     "data": {
      "text/plain": [
       "dict_keys(['A1', 'A10', 'A11'])"
      ]
     },
     "execution_count": 12,
     "metadata": {},
     "output_type": "execute_result"
    }
   ],
   "source": [
    "images.keys()"
   ]
  },
  {
   "cell_type": "code",
   "execution_count": 13,
   "metadata": {},
   "outputs": [
    {
     "name": "stderr",
     "output_type": "stream",
     "text": [
      "C:\\Users\\Conor\\Anaconda3\\lib\\importlib\\_bootstrap.py:219: ImportWarning: can't resolve package from __spec__ or __package__, falling back on __name__ and __path__\n",
      "  return f(*args, **kwds)\n"
     ]
    }
   ],
   "source": [
    "from sklearn.decomposition import PCA"
   ]
  },
  {
   "cell_type": "code",
   "execution_count": 14,
   "metadata": {},
   "outputs": [],
   "source": [
    "image = images[\"A11\"][\"image\"]"
   ]
  },
  {
   "cell_type": "code",
   "execution_count": 15,
   "metadata": {},
   "outputs": [],
   "source": [
    "pca = PCA(n_components = 1).fit(image.reshape(-1, image.shape[-1]))#.reshape(image.shape[0], image.shape[1], 3)"
   ]
  },
  {
   "cell_type": "code",
   "execution_count": 16,
   "metadata": {},
   "outputs": [
    {
     "data": {
      "text/plain": [
       "0.8771081752909715"
      ]
     },
     "execution_count": 16,
     "metadata": {},
     "output_type": "execute_result"
    }
   ],
   "source": [
    "pca.explained_variance_ratio_.sum()"
   ]
  },
  {
   "cell_type": "code",
   "execution_count": 26,
   "metadata": {},
   "outputs": [],
   "source": [
    "new_image = pca.transform(image.reshape(-1, image.shape[-1])).reshape(image.shape[0], image.shape[1], -3)"
   ]
  },
  {
   "cell_type": "code",
   "execution_count": 27,
   "metadata": {},
   "outputs": [
    {
     "data": {
      "text/plain": [
       "(313, 313, 1)"
      ]
     },
     "execution_count": 27,
     "metadata": {},
     "output_type": "execute_result"
    }
   ],
   "source": [
    "new_image.shape"
   ]
  },
  {
   "cell_type": "code",
   "execution_count": 25,
   "metadata": {},
   "outputs": [
    {
     "ename": "TypeError",
     "evalue": "Invalid dimensions for image data",
     "output_type": "error",
     "traceback": [
      "\u001b[1;31m---------------------------------------------------------------------------\u001b[0m",
      "\u001b[1;31mTypeError\u001b[0m                                 Traceback (most recent call last)",
      "\u001b[1;32m<ipython-input-25-fb1b4ea47c62>\u001b[0m in \u001b[0;36m<module>\u001b[1;34m()\u001b[0m\n\u001b[0;32m      1\u001b[0m \u001b[0mplt\u001b[0m\u001b[1;33m.\u001b[0m\u001b[0mclf\u001b[0m\u001b[1;33m(\u001b[0m\u001b[1;33m)\u001b[0m\u001b[1;33m\u001b[0m\u001b[0m\n\u001b[0;32m      2\u001b[0m \u001b[1;33m\u001b[0m\u001b[0m\n\u001b[1;32m----> 3\u001b[1;33m \u001b[0mplt\u001b[0m\u001b[1;33m.\u001b[0m\u001b[0mimshow\u001b[0m\u001b[1;33m(\u001b[0m\u001b[0mnew_image\u001b[0m\u001b[1;33m)\u001b[0m\u001b[1;33m\u001b[0m\u001b[0m\n\u001b[0m\u001b[0;32m      4\u001b[0m \u001b[1;33m\u001b[0m\u001b[0m\n\u001b[0;32m      5\u001b[0m \u001b[0mplt\u001b[0m\u001b[1;33m.\u001b[0m\u001b[0mshow\u001b[0m\u001b[1;33m(\u001b[0m\u001b[1;33m)\u001b[0m\u001b[1;33m\u001b[0m\u001b[0m\n",
      "\u001b[1;32m~\\AppData\\Roaming\\Python\\Python36\\site-packages\\matplotlib\\pyplot.py\u001b[0m in \u001b[0;36mimshow\u001b[1;34m(X, cmap, norm, aspect, interpolation, alpha, vmin, vmax, origin, extent, shape, filternorm, filterrad, imlim, resample, url, data, **kwargs)\u001b[0m\n\u001b[0;32m   2699\u001b[0m         \u001b[0mfilternorm\u001b[0m\u001b[1;33m=\u001b[0m\u001b[0mfilternorm\u001b[0m\u001b[1;33m,\u001b[0m \u001b[0mfilterrad\u001b[0m\u001b[1;33m=\u001b[0m\u001b[0mfilterrad\u001b[0m\u001b[1;33m,\u001b[0m \u001b[0mimlim\u001b[0m\u001b[1;33m=\u001b[0m\u001b[0mimlim\u001b[0m\u001b[1;33m,\u001b[0m\u001b[1;33m\u001b[0m\u001b[0m\n\u001b[0;32m   2700\u001b[0m         resample=resample, url=url, **({\"data\": data} if data is not\n\u001b[1;32m-> 2701\u001b[1;33m         None else {}), **kwargs)\n\u001b[0m\u001b[0;32m   2702\u001b[0m     \u001b[0msci\u001b[0m\u001b[1;33m(\u001b[0m\u001b[0m__ret\u001b[0m\u001b[1;33m)\u001b[0m\u001b[1;33m\u001b[0m\u001b[0m\n\u001b[0;32m   2703\u001b[0m     \u001b[1;32mreturn\u001b[0m \u001b[0m__ret\u001b[0m\u001b[1;33m\u001b[0m\u001b[0m\n",
      "\u001b[1;32m~\\AppData\\Roaming\\Python\\Python36\\site-packages\\matplotlib\\__init__.py\u001b[0m in \u001b[0;36minner\u001b[1;34m(ax, data, *args, **kwargs)\u001b[0m\n\u001b[0;32m   1808\u001b[0m                         \u001b[1;34m\"the Matplotlib list!)\"\u001b[0m \u001b[1;33m%\u001b[0m \u001b[1;33m(\u001b[0m\u001b[0mlabel_namer\u001b[0m\u001b[1;33m,\u001b[0m \u001b[0mfunc\u001b[0m\u001b[1;33m.\u001b[0m\u001b[0m__name__\u001b[0m\u001b[1;33m)\u001b[0m\u001b[1;33m,\u001b[0m\u001b[1;33m\u001b[0m\u001b[0m\n\u001b[0;32m   1809\u001b[0m                         RuntimeWarning, stacklevel=2)\n\u001b[1;32m-> 1810\u001b[1;33m             \u001b[1;32mreturn\u001b[0m \u001b[0mfunc\u001b[0m\u001b[1;33m(\u001b[0m\u001b[0max\u001b[0m\u001b[1;33m,\u001b[0m \u001b[1;33m*\u001b[0m\u001b[0margs\u001b[0m\u001b[1;33m,\u001b[0m \u001b[1;33m**\u001b[0m\u001b[0mkwargs\u001b[0m\u001b[1;33m)\u001b[0m\u001b[1;33m\u001b[0m\u001b[0m\n\u001b[0m\u001b[0;32m   1811\u001b[0m \u001b[1;33m\u001b[0m\u001b[0m\n\u001b[0;32m   1812\u001b[0m         inner.__doc__ = _add_data_doc(inner.__doc__,\n",
      "\u001b[1;32m~\\AppData\\Roaming\\Python\\Python36\\site-packages\\matplotlib\\axes\\_axes.py\u001b[0m in \u001b[0;36mimshow\u001b[1;34m(self, X, cmap, norm, aspect, interpolation, alpha, vmin, vmax, origin, extent, shape, filternorm, filterrad, imlim, resample, url, **kwargs)\u001b[0m\n\u001b[0;32m   5492\u001b[0m                               resample=resample, **kwargs)\n\u001b[0;32m   5493\u001b[0m \u001b[1;33m\u001b[0m\u001b[0m\n\u001b[1;32m-> 5494\u001b[1;33m         \u001b[0mim\u001b[0m\u001b[1;33m.\u001b[0m\u001b[0mset_data\u001b[0m\u001b[1;33m(\u001b[0m\u001b[0mX\u001b[0m\u001b[1;33m)\u001b[0m\u001b[1;33m\u001b[0m\u001b[0m\n\u001b[0m\u001b[0;32m   5495\u001b[0m         \u001b[0mim\u001b[0m\u001b[1;33m.\u001b[0m\u001b[0mset_alpha\u001b[0m\u001b[1;33m(\u001b[0m\u001b[0malpha\u001b[0m\u001b[1;33m)\u001b[0m\u001b[1;33m\u001b[0m\u001b[0m\n\u001b[0;32m   5496\u001b[0m         \u001b[1;32mif\u001b[0m \u001b[0mim\u001b[0m\u001b[1;33m.\u001b[0m\u001b[0mget_clip_path\u001b[0m\u001b[1;33m(\u001b[0m\u001b[1;33m)\u001b[0m \u001b[1;32mis\u001b[0m \u001b[1;32mNone\u001b[0m\u001b[1;33m:\u001b[0m\u001b[1;33m\u001b[0m\u001b[0m\n",
      "\u001b[1;32m~\\AppData\\Roaming\\Python\\Python36\\site-packages\\matplotlib\\image.py\u001b[0m in \u001b[0;36mset_data\u001b[1;34m(self, A)\u001b[0m\n\u001b[0;32m    644\u001b[0m         if not (self._A.ndim == 2\n\u001b[0;32m    645\u001b[0m                 or self._A.ndim == 3 and self._A.shape[-1] in [3, 4]):\n\u001b[1;32m--> 646\u001b[1;33m             \u001b[1;32mraise\u001b[0m \u001b[0mTypeError\u001b[0m\u001b[1;33m(\u001b[0m\u001b[1;34m\"Invalid dimensions for image data\"\u001b[0m\u001b[1;33m)\u001b[0m\u001b[1;33m\u001b[0m\u001b[0m\n\u001b[0m\u001b[0;32m    647\u001b[0m \u001b[1;33m\u001b[0m\u001b[0m\n\u001b[0;32m    648\u001b[0m         \u001b[1;32mif\u001b[0m \u001b[0mself\u001b[0m\u001b[1;33m.\u001b[0m\u001b[0m_A\u001b[0m\u001b[1;33m.\u001b[0m\u001b[0mndim\u001b[0m \u001b[1;33m==\u001b[0m \u001b[1;36m3\u001b[0m\u001b[1;33m:\u001b[0m\u001b[1;33m\u001b[0m\u001b[0m\n",
      "\u001b[1;31mTypeError\u001b[0m: Invalid dimensions for image data"
     ]
    }
   ],
   "source": [
    "plt.clf()\n",
    "\n",
    "plt.imshow(new_image)\n",
    "\n",
    "plt.show()"
   ]
  }
 ],
 "metadata": {
  "kernelspec": {
   "display_name": "Python 3",
   "language": "python",
   "name": "python3"
  },
  "language_info": {
   "codemirror_mode": {
    "name": "ipython",
    "version": 3
   },
   "file_extension": ".py",
   "mimetype": "text/x-python",
   "name": "python",
   "nbconvert_exporter": "python",
   "pygments_lexer": "ipython3",
   "version": "3.6.3"
  }
 },
 "nbformat": 4,
 "nbformat_minor": 2
}
