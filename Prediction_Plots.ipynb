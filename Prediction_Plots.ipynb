{
 "cells": [
  {
   "cell_type": "code",
   "execution_count": 1,
   "metadata": {},
   "outputs": [
    {
     "name": "stdout",
     "output_type": "stream",
     "text": [
      "C:\\Users\\Conor\\Anaconda3\\python.exe\n",
      "3.6.8 |Anaconda custom (64-bit)| (default, Feb 21 2019, 18:30:04) [MSC v.1916 64 bit (AMD64)]\n",
      "sys.version_info(major=3, minor=6, micro=8, releaselevel='final', serial=0)\n"
     ]
    }
   ],
   "source": [
    "import sys\n",
    "print(sys.executable)\n",
    "print(sys.version)\n",
    "print(sys.version_info)"
   ]
  },
  {
   "cell_type": "code",
   "execution_count": 2,
   "metadata": {
    "collapsed": true
   },
   "outputs": [],
   "source": [
    "%load_ext autoreload\n",
    "\n",
    "%autoreload 2"
   ]
  },
  {
   "cell_type": "code",
   "execution_count": 3,
   "metadata": {
    "scrolled": true
   },
   "outputs": [],
   "source": [
    "import numpy as np\n",
    "import pandas as pd\n",
    "import matplotlib.pyplot as plt\n",
    "\n",
    "from mpl_toolkits.mplot3d import Axes3D"
   ]
  },
  {
   "cell_type": "markdown",
   "metadata": {},
   "source": [
    "# Home-PC"
   ]
  },
  {
   "cell_type": "code",
   "execution_count": 4,
   "metadata": {},
   "outputs": [],
   "source": [
    "import os.path\n",
    "\n",
    "file_place = r\"C:\\Users\\Conor\\DataSets\"\n",
    "\n",
    "Breast_DF = pd.read_pickle(os.path.join(file_place,\"Breast_mie_corrected\"))"
   ]
  },
  {
   "cell_type": "code",
   "execution_count": null,
   "metadata": {},
   "outputs": [],
   "source": [
    "import os.path\n",
    "\n",
    "file_place = r\"C:\\Users\\Conor\\DataSets\"\n",
    "\n",
    "Breast_DF = pd.read_pickle(os.path.join(file_place,\"Breast_data_raw\"))"
   ]
  },
  {
   "cell_type": "markdown",
   "metadata": {},
   "source": [
    "Remove blood and Necrosis from the dataset"
   ]
  },
  {
   "cell_type": "code",
   "execution_count": null,
   "metadata": {},
   "outputs": [],
   "source": [
    "indices = (Breast_DF.reset_index().Label != \"Blood\") & (Breast_DF.reset_index().Label != \"Necrosis\") & (Breast_DF.reset_index().Label != \"Non_malignant Epithelium\") & (Breast_DF.reset_index().Label != \"Malignant Epithelium\")\n",
    "\n",
    "Breast_DF = Breast_DF[indices.values]#.head()"
   ]
  },
  {
   "cell_type": "code",
   "execution_count": 41,
   "metadata": {},
   "outputs": [],
   "source": [
    "indices = (Breast_DF.reset_index().Label != \"Blood\") & (Breast_DF.reset_index().Label != \"Necrosis\")\n",
    "Breast_DF = Breast_DF[indices.values]#.head()"
   ]
  },
  {
   "cell_type": "markdown",
   "metadata": {},
   "source": [
    "# Preprocessing"
   ]
  },
  {
   "cell_type": "markdown",
   "metadata": {},
   "source": [
    "Preprocessing method, maybe make this all one pipe?"
   ]
  },
  {
   "cell_type": "code",
   "execution_count": 42,
   "metadata": {
    "collapsed": true
   },
   "outputs": [],
   "source": [
    "from sklearn.pipeline import Pipeline, FeatureUnion\n",
    "from sklearn.preprocessing import Normalizer, StandardScaler, MinMaxScaler, RobustScaler\n",
    "\n",
    "steps = [\n",
    "         #(\"Normalise\", Normalizer(norm = \"l1\"))\n",
    "         (\"RobustScaler\", RobustScaler())\n",
    "        ]\n",
    "\n",
    "pipe  = Pipeline(steps)"
   ]
  },
  {
   "cell_type": "code",
   "execution_count": 43,
   "metadata": {
    "scrolled": false
   },
   "outputs": [
    {
     "name": "stdout",
     "output_type": "stream",
     "text": [
      "Processing\n"
     ]
    },
    {
     "name": "stderr",
     "output_type": "stream",
     "text": [
      "C:\\Users\\Conor\\AppData\\Roaming\\Python\\Python36\\site-packages\\pandas\\core\\frame.py:3930: SettingWithCopyWarning: \n",
      "A value is trying to be set on a copy of a slice from a DataFrame\n",
      "\n",
      "See the caveats in the documentation: http://pandas.pydata.org/pandas-docs/stable/indexing.html#indexing-view-versus-copy\n",
      "  errors=errors)\n"
     ]
    }
   ],
   "source": [
    "import Tissue_Analysis_Tools as TAT\n",
    "\n",
    "PCA_NR_Components = 20\n",
    "\n",
    "dataframe = TAT.process_data(Breast_DF, paraffin = (1340,1490))#, balance = \"Type\")\n",
    "\n",
    "PCA_reduced = TAT.PCA_denoise(dataframe, PCA_NR_Components)\n",
    "\n",
    "values = pipe.fit_transform(PCA_reduced.T).T\n",
    "\n",
    "Breast_DF_P = pd.DataFrame(values, index = dataframe.index, columns = dataframe.columns)"
   ]
  },
  {
   "cell_type": "markdown",
   "metadata": {},
   "source": [
    "# Analysis"
   ]
  },
  {
   "cell_type": "markdown",
   "metadata": {},
   "source": [
    "# Dataset partitioning"
   ]
  },
  {
   "cell_type": "code",
   "execution_count": 69,
   "metadata": {},
   "outputs": [
    {
     "name": "stdout",
     "output_type": "stream",
     "text": [
      "Train set: \n",
      " Malignant Epithelium        115676\n",
      "Malignant Stroma             56468\n",
      "Non_malignant Stroma         36585\n",
      "Non_malignant Epithelium     29165\n",
      "Name: Label, dtype: int64 \n",
      "\n",
      "Validation set: \n",
      " Malignant Epithelium        30449\n",
      "Malignant Stroma            15428\n",
      "Non_malignant Stroma         2830\n",
      "Non_malignant Epithelium     2567\n",
      "Name: Label, dtype: int64 \n",
      "\n"
     ]
    }
   ],
   "source": [
    "from sklearn.preprocessing import LabelBinarizer\n",
    "from sklearn.model_selection import train_test_split\n",
    "\n",
    "lb = LabelBinarizer()\n",
    "\n",
    "DATA = Breast_DF_P#.sample(10000)\n",
    "\n",
    "DATA = DATA.sample(frac = 1) # Shuffle the dataframe randomly\n",
    "\n",
    "y_label = \"Label\"\n",
    "\n",
    "X = DATA\n",
    "Y = DATA.reset_index()[y_label]\n",
    "lb.fit(Y)\n",
    "\n",
    "Y_b = pd.DataFrame(lb.transform(Y), index = Y.index)\n",
    "\n",
    "# split set by patients\n",
    "train_p, valid_p = train_test_split(np.unique(Breast_DF_P.reset_index()[\"Core\"])\n",
    "                                    , test_size = 0.2\n",
    "                                    #, random_state = 42\n",
    "                                    , shuffle = True)\n",
    "\n",
    "# Keep a separate validation set aside \n",
    "#X_train, X_valid, y_train, y_valid = train_test_split(X, Y, test_size=0.1, random_state=42, shuffle = True)\n",
    "\n",
    "# Training and validation sets on patient basis\n",
    "X_train = X[X.reset_index()[\"Core\"].isin(train_p).values]\n",
    "X_valid = X[X.reset_index()[\"Core\"].isin(valid_p).values]\n",
    "\n",
    "y_train = X_train.reset_index()[y_label]\n",
    "y_valid = X_valid.reset_index()[y_label]\n",
    "\n",
    "#pd.DataFrame(X_valid.values, index = y_valid.values).round(6).to_csv(r\"E:\\Validation.csv\".format(i+1), header = None)\n",
    "\n",
    "print(\"Train set: \\n\", y_train.value_counts(), \"\\n\")\n",
    "print(\"Validation set: \\n\", y_valid.value_counts(), \"\\n\")\n",
    "\n",
    "# Create dataframes containing the binary labels for each class\n",
    "y_train = pd.DataFrame(lb.transform(y_train), index = y_train.index)\n",
    "y_valid = pd.DataFrame(lb.transform(y_valid), index = y_valid.index)\n",
    "\n",
    "if len(np.unique(Y)) == 2: y_train[1] = y_train[0].map({0:1, 1:0})\n",
    "if len(np.unique(Y)) == 2: y_valid[1] = y_valid[0].map({0:1, 1:0})"
   ]
  },
  {
   "cell_type": "code",
   "execution_count": 36,
   "metadata": {},
   "outputs": [
    {
     "data": {
      "text/plain": [
       "IIa     172381\n",
       "-        71147\n",
       "IIb      33709\n",
       "I        17733\n",
       "IIIb     14402\n",
       "IIIa     12162\n",
       "Name: Stage, dtype: int64"
      ]
     },
     "execution_count": 36,
     "metadata": {},
     "output_type": "execute_result"
    }
   ],
   "source": [
    "DATA.reset_index().Stage.value_counts()"
   ]
  },
  {
   "cell_type": "code",
   "execution_count": 11,
   "metadata": {},
   "outputs": [
    {
     "name": "stdout",
     "output_type": "stream",
     "text": [
      "- \n",
      "\n",
      "M12    9308\n",
      "M15    7843\n",
      "M4     6652\n",
      "M9     6008\n",
      "M16    5922\n",
      "M1     5397\n",
      "M3     5172\n",
      "M14    5136\n",
      "M8     5112\n",
      "M7     4963\n",
      "M11    4784\n",
      "M10    4537\n",
      "M2      313\n",
      "Name: Core, dtype: int64\n",
      "I \n",
      "\n",
      "E13    4949\n",
      "F12    3249\n",
      "B5     1823\n",
      "A8     1739\n",
      "B15    1646\n",
      "A4     1498\n",
      "F6     1448\n",
      "A11    1381\n",
      "Name: Core, dtype: int64\n",
      "IIIa \n",
      "\n",
      "J4     3308\n",
      "J7     2854\n",
      "B16    2512\n",
      "L1     1797\n",
      "E3     1691\n",
      "Name: Core, dtype: int64\n",
      "IIIb \n",
      "\n",
      "J11    9402\n",
      "K1     2459\n",
      "E5     1847\n",
      "C3      694\n",
      "Name: Core, dtype: int64\n",
      "IIa \n",
      "\n",
      "J9     15704\n",
      "A3     13722\n",
      "K6     10663\n",
      "D16     8989\n",
      "F15     8188\n",
      "B4      7575\n",
      "L3      7317\n",
      "J6      7294\n",
      "A6      7084\n",
      "J15     5602\n",
      "B11     5433\n",
      "J14     5432\n",
      "J3      5060\n",
      "A7      4425\n",
      "B2      4214\n",
      "G5      4154\n",
      "L2      4000\n",
      "B1      3615\n",
      "K5      3600\n",
      "J13     3578\n",
      "B14     3541\n",
      "F2      3486\n",
      "K7      3373\n",
      "A2      3337\n",
      "D7      3328\n",
      "D15     3258\n",
      "A1      2906\n",
      "A5      2530\n",
      "B10     2496\n",
      "E6      2403\n",
      "D13     1859\n",
      "A9      1816\n",
      "K3      1598\n",
      "B7       801\n",
      "Name: Core, dtype: int64\n",
      "IIb \n",
      "\n",
      "H3     12779\n",
      "B6      9577\n",
      "J5      4518\n",
      "E4      1747\n",
      "F9      1588\n",
      "J16     1436\n",
      "I4      1284\n",
      "J1       516\n",
      "D14      200\n",
      "E16       64\n",
      "Name: Core, dtype: int64\n"
     ]
    }
   ],
   "source": [
    "y_label\n",
    "\n",
    "for name in np.unique(DATA.reset_index()[y_label]):\n",
    "    print(name, \"\\n\")\n",
    "    index = DATA.reset_index()[y_label] == DATA.reset_index()[y_label].value_counts()[name]\n",
    "    index = DATA.reset_index()[y_label] == name\n",
    "\n",
    "    print(DATA[index.values].reset_index()[\"Core\"].value_counts())"
   ]
  },
  {
   "cell_type": "code",
   "execution_count": 75,
   "metadata": {},
   "outputs": [
    {
     "name": "stderr",
     "output_type": "stream",
     "text": [
      "[autoreload of pkg_resources.extern.six failed: Traceback (most recent call last):\n",
      "  File \"C:\\Users\\Conor\\Anaconda3\\lib\\site-packages\\IPython\\extensions\\autoreload.py\", line 244, in check\n",
      "    superreload(m, reload, self.old_objects)\n",
      "  File \"C:\\Users\\Conor\\Anaconda3\\lib\\site-packages\\IPython\\extensions\\autoreload.py\", line 378, in superreload\n",
      "    module = reload(module)\n",
      "  File \"C:\\Users\\Conor\\Anaconda3\\lib\\imp.py\", line 315, in reload\n",
      "    return importlib.reload(module)\n",
      "  File \"C:\\Users\\Conor\\Anaconda3\\lib\\importlib\\__init__.py\", line 147, in reload\n",
      "    raise ImportError(msg.format(name), name=name)\n",
      "ImportError: module pkg_resources._vendor.six not in sys.modules\n",
      "]\n",
      "[autoreload of pkg_resources.extern.appdirs failed: Traceback (most recent call last):\n",
      "  File \"C:\\Users\\Conor\\Anaconda3\\lib\\site-packages\\IPython\\extensions\\autoreload.py\", line 244, in check\n",
      "    superreload(m, reload, self.old_objects)\n",
      "  File \"C:\\Users\\Conor\\Anaconda3\\lib\\site-packages\\IPython\\extensions\\autoreload.py\", line 378, in superreload\n",
      "    module = reload(module)\n",
      "  File \"C:\\Users\\Conor\\Anaconda3\\lib\\imp.py\", line 315, in reload\n",
      "    return importlib.reload(module)\n",
      "  File \"C:\\Users\\Conor\\Anaconda3\\lib\\importlib\\__init__.py\", line 147, in reload\n",
      "    raise ImportError(msg.format(name), name=name)\n",
      "ImportError: module pkg_resources._vendor.appdirs not in sys.modules\n",
      "]\n",
      "[autoreload of pkg_resources._vendor.packaging.__about__ failed: Traceback (most recent call last):\n",
      "  File \"C:\\Users\\Conor\\Anaconda3\\lib\\site-packages\\IPython\\extensions\\autoreload.py\", line 244, in check\n",
      "    superreload(m, reload, self.old_objects)\n",
      "  File \"C:\\Users\\Conor\\Anaconda3\\lib\\site-packages\\IPython\\extensions\\autoreload.py\", line 378, in superreload\n",
      "    module = reload(module)\n",
      "  File \"C:\\Users\\Conor\\Anaconda3\\lib\\imp.py\", line 315, in reload\n",
      "    return importlib.reload(module)\n",
      "  File \"C:\\Users\\Conor\\Anaconda3\\lib\\importlib\\__init__.py\", line 159, in reload\n",
      "    name=parent_name) from None\n",
      "ImportError: parent 'pkg_resources._vendor.packaging' not in sys.modules\n",
      "]\n",
      "[autoreload of pkg_resources.extern.packaging failed: Traceback (most recent call last):\n",
      "  File \"C:\\Users\\Conor\\Anaconda3\\lib\\site-packages\\IPython\\extensions\\autoreload.py\", line 244, in check\n",
      "    superreload(m, reload, self.old_objects)\n",
      "  File \"C:\\Users\\Conor\\Anaconda3\\lib\\site-packages\\IPython\\extensions\\autoreload.py\", line 378, in superreload\n",
      "    module = reload(module)\n",
      "  File \"C:\\Users\\Conor\\Anaconda3\\lib\\imp.py\", line 315, in reload\n",
      "    return importlib.reload(module)\n",
      "  File \"C:\\Users\\Conor\\Anaconda3\\lib\\importlib\\__init__.py\", line 147, in reload\n",
      "    raise ImportError(msg.format(name), name=name)\n",
      "ImportError: module pkg_resources._vendor.packaging not in sys.modules\n",
      "]\n",
      "[autoreload of pkg_resources.extern.pyparsing failed: Traceback (most recent call last):\n",
      "  File \"C:\\Users\\Conor\\Anaconda3\\lib\\site-packages\\IPython\\extensions\\autoreload.py\", line 244, in check\n",
      "    superreload(m, reload, self.old_objects)\n",
      "  File \"C:\\Users\\Conor\\Anaconda3\\lib\\site-packages\\IPython\\extensions\\autoreload.py\", line 378, in superreload\n",
      "    module = reload(module)\n",
      "  File \"C:\\Users\\Conor\\Anaconda3\\lib\\imp.py\", line 315, in reload\n",
      "    return importlib.reload(module)\n",
      "  File \"C:\\Users\\Conor\\Anaconda3\\lib\\importlib\\__init__.py\", line 147, in reload\n",
      "    raise ImportError(msg.format(name), name=name)\n",
      "ImportError: module pkg_resources._vendor.pyparsing not in sys.modules\n",
      "]\n"
     ]
    },
    {
     "name": "stdout",
     "output_type": "stream",
     "text": [
      "- \n",
      "\n",
      "M12    9308\n",
      "M15    7843\n",
      "M4     6652\n",
      "M9     6008\n",
      "M16    5922\n",
      "M1     5397\n",
      "M3     5172\n",
      "M14    5136\n",
      "M8     5112\n",
      "M7     4963\n",
      "M11    4784\n",
      "M10    4537\n",
      "M2      313\n",
      "Name: Core, dtype: int64\n",
      "I \n",
      "\n",
      "E13    4949\n",
      "F12    3249\n",
      "B5     1823\n",
      "A8     1739\n",
      "B15    1646\n",
      "A4     1498\n",
      "F6     1448\n",
      "A11    1381\n",
      "Name: Core, dtype: int64\n",
      "IIIa \n",
      "\n",
      "J4     3308\n",
      "J7     2854\n",
      "B16    2512\n",
      "L1     1797\n",
      "E3     1691\n",
      "Name: Core, dtype: int64\n",
      "IIIb \n",
      "\n",
      "J11    9402\n",
      "K1     2459\n",
      "E5     1847\n",
      "C3      694\n",
      "Name: Core, dtype: int64\n",
      "IIa \n",
      "\n",
      "J9     11571\n",
      "K6     10663\n",
      "F15     7770\n",
      "L3      7317\n",
      "J6      7294\n",
      "A6      7084\n",
      "J15     5602\n",
      "B11     5433\n",
      "J14     5432\n",
      "J3      5060\n",
      "A7      4425\n",
      "B2      4214\n",
      "B4      4190\n",
      "G5      4154\n",
      "L2      4000\n",
      "A3      3989\n",
      "B1      3615\n",
      "K5      3600\n",
      "J13     3578\n",
      "B14     3541\n",
      "F2      3486\n",
      "D7      3328\n",
      "D15     3258\n",
      "A2      3151\n",
      "A1      2906\n",
      "K7      2643\n",
      "A5      2530\n",
      "B10     2496\n",
      "E6      2403\n",
      "D13     1859\n",
      "A9      1816\n",
      "B7       801\n",
      "Name: Core, dtype: int64\n",
      "IIb \n",
      "\n",
      "H3     12779\n",
      "B6      7731\n",
      "J5      4518\n",
      "E4      1747\n",
      "F9      1588\n",
      "J16     1436\n",
      "J1       516\n",
      "D14      200\n",
      "Name: Core, dtype: int64\n"
     ]
    }
   ],
   "source": [
    "for name in np.unique(DATA.reset_index().Stage):\n",
    "    print(name, \"\\n\")\n",
    "    index = DATA.reset_index().Stage == DATA.reset_index().Stage.value_counts()[name]\n",
    "    index = DATA.reset_index().Stage == name\n",
    "\n",
    "    print(DATA[index.values].reset_index()[\"Core\"].value_counts())"
   ]
  },
  {
   "cell_type": "code",
   "execution_count": 70,
   "metadata": {},
   "outputs": [
    {
     "data": {
      "image/png": "[encoded data removed]",
      "text/plain": [
       "<Figure size 432x288 with 1 Axes>"
      ]
     },
     "metadata": {
      "needs_background": "light"
     },
     "output_type": "display_data"
    }
   ],
   "source": [
    "plt.clf()\n",
    "\n",
    "for name, df in Breast_DF_P.groupby(level = y_label):\n",
    "    \n",
    "    plt.plot(df.mean(axis = 0), label = name)\n",
    "\n",
    "plt.ylabel(\"Absorbance (a.u)\")\n",
    "plt.xlabel(\"Wavenumber $(cm^{-1})$\")\n",
    "plt.gca().invert_xaxis()\n",
    "plt.legend()\n",
    "plt.show()"
   ]
  },
  {
   "cell_type": "code",
   "execution_count": null,
   "metadata": {},
   "outputs": [],
   "source": [
    "index = DATA.reset_index().Label == DATA.reset_index().Label.value_counts().idxmin()\n",
    "\n",
    "print(len(DATA[index.values].reset_index()[\"Core\"].value_counts()))"
   ]
  },
  {
   "cell_type": "markdown",
   "metadata": {},
   "source": [
    "# HyperOpt Training - XGBoost"
   ]
  },
  {
   "cell_type": "code",
   "execution_count": 71,
   "metadata": {},
   "outputs": [],
   "source": [
    "from hyperopt import STATUS_OK, Trials, fmin, hp, tpe"
   ]
  },
  {
   "cell_type": "markdown",
   "metadata": {},
   "source": [
    "This will ouput a score for the current hyperparameter configuration "
   ]
  },
  {
   "cell_type": "code",
   "execution_count": 72,
   "metadata": {},
   "outputs": [],
   "source": [
    "from sklearn.metrics import f1_score, confusion_matrix\n",
    "\n",
    "def j_xg_bin(y_predicted, dtrain_true):\n",
    "    \n",
    "    y_true = dtrain_true.get_label().astype(int)\n",
    "    bin_preds = [1 if pred >0.5 else 0 for pred in y_predicted]\n",
    "    \n",
    "    #print(y_true)\n",
    "\n",
    "    tn, fp, fn, tp = confusion_matrix(y_true, bin_preds).ravel()\n",
    "    \n",
    "    sens = tp/(tp+fn)\n",
    "    spec = tn/(tn+fp)\n",
    "    j = sens + spec - 1\n",
    "        \n",
    "    return \"J\", 1-j # Return inverse as this score will be minimised\n",
    "\n",
    "def j_normal_bin(y_true, y_pred):\n",
    "    \n",
    "    bin_preds = [1 if pred >0.5 else 0 for pred in y_pred]\n",
    "    \n",
    "    tn, fp, fn, tp = confusion_matrix(y_true, bin_preds).ravel()\n",
    "    \n",
    "    sens = tp/(tp+fn)\n",
    "    spec = tn/(tn+fp)\n",
    "    j = sens + spec - 1\n",
    "    \n",
    "    return j"
   ]
  },
  {
   "cell_type": "code",
   "execution_count": 73,
   "metadata": {},
   "outputs": [],
   "source": [
    "import xgboost as xgb\n",
    "\n",
    "def hyper_opt_search_XGBoost(X, y, grouping, weight_binary = False\n",
    "                             , optimiser = tpe.suggest, random_state = 42\n",
    "                             , cores = 1, n_evals = 3, k_splits = 2):\n",
    "    \n",
    "    from sklearn.model_selection import train_test_split, GroupKFold\n",
    "    from sklearn.metrics import roc_auc_score\n",
    "    \n",
    "    #X_train, X_test, y_train, y_test = train_test_split(X, y, test_size=0.2, random_state=42)\n",
    "\n",
    "    def score(params):\n",
    "        \n",
    "        loss_cv = []\n",
    "        scores = []\n",
    "        \n",
    "        i = 0\n",
    "        \n",
    "        for train_index, test_index in GroupKFold(k_splits).split(X, y, grouping):\n",
    "            \n",
    "            # Uncomment to save folds\n",
    "            #X_Data = np.vstack([X[train_index], X[test_index]])\n",
    "            #Y_Data = lb.inverse_transform(np.hstack([y[train_index], y[test_index]]))\n",
    "            #pd.DataFrame(X_Data, index=Y_Data).round(6).to_csv(r\"F:\\fold_{}.csv\".format(i+1), header = None)\n",
    "\n",
    "            dtrain = xgb.DMatrix(X[train_index], label=y[train_index])\n",
    "            dtest = xgb.DMatrix(X[test_index], label=y[test_index])\n",
    "\n",
    "            watchlist = [(dtest, 'eval'), (dtrain, 'train')]\n",
    "\n",
    "            xgb_cl = xgb.train(params, dtrain, evals=watchlist, verbose_eval=False)\n",
    "\n",
    "            predictions = xgb_cl.predict(dtest, ntree_limit = xgb_cl.best_iteration + 1)\n",
    "\n",
    "            # TODO: try and get the y_labels from dtest\n",
    "            # score = roc_auc_score(y[test_index, predictions])\n",
    "            score = j_normal(y[test_index], predictions)\n",
    "            scores.append(score)\n",
    "            \n",
    "            loss = 1 - score\n",
    "            \n",
    "            loss_cv.append(loss)\n",
    "            \n",
    "        #print(\"\\tScore {0}\\n\\n\".format(1-loss))\n",
    "        return {'loss': loss.mean(), 'status': STATUS_OK, 'scores': scores}\n",
    "    \n",
    "    space = {\n",
    "        \"early_stopping_round\" : 10,\n",
    "        \"n_classes\" : 2,\n",
    "        \"scale_pos_weight\" : 1/(np.sum(y)/y.shape[0]),\n",
    "        'n_estimators': hp.quniform('n_estimators', 10, 1000, 1),\n",
    "        'learning_rate': hp.quniform('learning_rate', 0.025, 0.7, 0.025),\n",
    "        # A problem with max_depth casted to float instead of int with\n",
    "        # the hp.quniform method.\n",
    "        'max_depth':  hp.choice('max_depth', np.arange(3, 15, dtype=int)),\n",
    "        'min_child_weight': hp.quniform('min_child_weight', 1, 8, 1),\n",
    "        'subsample': hp.quniform('subsample', 0.3, 1, 0.05),\n",
    "        'gamma': hp.quniform('gamma', 0.3, 1, 0.05),\n",
    "        'colsample_bytree': hp.quniform('colsample_bytree', 0.5, 0.95, 0.05),\n",
    "        'eval_metric': 'auc',\n",
    "        #'eval_metric': j_xg,\n",
    "        'objective': 'binary:logistic',\n",
    "        # Increase this number if you have more cores. Otherwise, remove it and it will default \n",
    "        # to the maxium number. \n",
    "        'nthread': cores,\n",
    "        'booster': 'gbtree',\n",
    "        'tree_method': 'exact',\n",
    "        'silent': 1,\n",
    "        'seed': random_state      \n",
    "    }\n",
    "\n",
    "    # Use the fmin function from Hyperopt to find the best hyperparameters\n",
    "    best = fmin(score, space, algo=tpe.suggest, \n",
    "                # trials=trials, \n",
    "                max_evals=n_evals)\n",
    "    \n",
    "    best[\"scale_pos_weight\"] = space[\"scale_pos_weight\"]\n",
    "    best[\"n_estimators\"] = int(best[\"n_estimators\"])\n",
    "\n",
    "    return best"
   ]
  },
  {
   "cell_type": "markdown",
   "metadata": {},
   "source": [
    "from sklearn.model_selection import KFold\n",
    "\n",
    "grouping = X_train.reset_index()[\"Core\"]\n",
    "\n",
    "indices = []\n",
    "\n",
    "i = 0\n",
    "\n",
    "for train_index, test_index in KFold(5).split(grouping):\n",
    "    \n",
    "    indices.append(train_index)\n",
    "\n",
    "    # Uncomment to save folds\n",
    "    X_Data = np.vstack(X_train.values[test_index])\n",
    "    Y_Data = lb.inverse_transform(np.hstack(y_train[0][test_index]))\n",
    "    output = pd.DataFrame(X_Data, index=Y_Data)\n",
    "    output.round(6).to_csv(r\"F:\\fold_{}.csv\".format(i+1), header = None)\n",
    "    \n",
    "    print(output.index.value_counts())\n",
    "\n",
    "    i = i+1"
   ]
  },
  {
   "cell_type": "code",
   "execution_count": 74,
   "metadata": {},
   "outputs": [
    {
     "name": "stdout",
     "output_type": "stream",
     "text": [
      "Wall time: 0 ns\n",
      "\n",
      "1: Malignant Epithelium\n",
      "100%|███████████████████████████████████████████████| 20/20 [1:02:25<00:00, 217.66s/it, best loss: 0.36609312684974116]\n",
      "\n",
      "2: Malignant Stroma\n",
      "100%|██████████████████████████████████████████████████| 20/20 [59:14<00:00, 189.50s/it, best loss: 0.5145190767988144]\n",
      "\n",
      "3: Non_malignant Epithelium\n",
      "100%|██████████████████████████████████████████████████| 20/20 [56:21<00:00, 158.76s/it, best loss: 0.5434773641124657]\n",
      "\n",
      "4: Non_malignant Stroma\n",
      "100%|██████████████████████████████████████████████████| 20/20 [53:06<00:00, 153.40s/it, best loss: 0.6284892498436851]\n"
     ]
    }
   ],
   "source": [
    "%time\n",
    "from sklearn.model_selection import train_test_split, GroupKFold, LeaveOneGroupOut\n",
    "\n",
    "xgbinary_classifiers = dict()\n",
    "\n",
    "for i, name in enumerate(np.unique(Y)):\n",
    "    \n",
    "    print(\"\\n{}: {}\".format(i + 1, name))\n",
    "    \n",
    "    best_hyperparams = hyper_opt_search_XGBoost(X_train.values,\n",
    "                                        y_train[i].values,\n",
    "                                        X_train.reset_index()[\"Core\"],\n",
    "                                        weight_binary = True,\n",
    "                                        optimiser = tpe.suggest,\n",
    "                                        random_state = 42,\n",
    "                                        cores = -1,\n",
    "                                        n_evals = 20,\n",
    "                                        k_splits = 5)\n",
    "                                #, trials = Trials())\n",
    "    \n",
    "    ## TODO: append best classifier to dictionary, store any other\n",
    "    ## relevant variables with it using trials.\n",
    "    clf_xgb = xgb.XGBClassifier()\n",
    "    \n",
    "    # Set the parameters which are best for that particular class\n",
    "    clf_xgb.set_params(**best_hyperparams)\n",
    "    clf_xgb.fit(X_train.values, y_train[i])\n",
    "\n",
    "    xgbinary_classifiers[name] = clf_xgb\n",
    "    \n",
    "    #if len(np.unique(Y)) == 2: break"
   ]
  },
  {
   "cell_type": "code",
   "execution_count": 77,
   "metadata": {},
   "outputs": [],
   "source": [
    "from sklearn.metrics import confusion_matrix, roc_auc_score"
   ]
  },
  {
   "cell_type": "code",
   "execution_count": 78,
   "metadata": {},
   "outputs": [
    {
     "ename": "NameError",
     "evalue": "name 'binary_classifiers' is not defined",
     "output_type": "error",
     "traceback": [
      "\u001b[1;31m---------------------------------------------------------------------------\u001b[0m",
      "\u001b[1;31mNameError\u001b[0m                                 Traceback (most recent call last)",
      "\u001b[1;32m<ipython-input-78-75b9490ad917>\u001b[0m in \u001b[0;36m<module>\u001b[1;34m\u001b[0m\n\u001b[0;32m      9\u001b[0m     \u001b[1;32mreturn\u001b[0m \u001b[0moutput\u001b[0m\u001b[1;33m\u001b[0m\u001b[1;33m\u001b[0m\u001b[0m\n\u001b[0;32m     10\u001b[0m \u001b[1;33m\u001b[0m\u001b[0m\n\u001b[1;32m---> 11\u001b[1;33m \u001b[0mprobs\u001b[0m \u001b[1;33m=\u001b[0m \u001b[0mbin_predict\u001b[0m\u001b[1;33m(\u001b[0m\u001b[0mX_valid\u001b[0m\u001b[1;33m.\u001b[0m\u001b[0mvalues\u001b[0m\u001b[1;33m,\u001b[0m \u001b[0mbinary_classifiers\u001b[0m\u001b[1;33m)\u001b[0m\u001b[1;33m\u001b[0m\u001b[1;33m\u001b[0m\u001b[0m\n\u001b[0m",
      "\u001b[1;31mNameError\u001b[0m: name 'binary_classifiers' is not defined"
     ]
    }
   ],
   "source": [
    "def bin_predict(x_array, classifiers):\n",
    "    \n",
    "    content = {name: classifier.predict_proba(x_array)[:,1] for name, classifier in classifiers.items()}\n",
    "    output = pd.DataFrame(content)\n",
    "    \n",
    "    # Normalise probability\n",
    "    output = output.div(output.sum(axis = 1), axis = 0)\n",
    "\n",
    "    return output"
   ]
  },
  {
   "cell_type": "markdown",
   "metadata": {},
   "source": [
    "# Results"
   ]
  },
  {
   "cell_type": "code",
   "execution_count": 80,
   "metadata": {},
   "outputs": [
    {
     "ename": "NameError",
     "evalue": "name 'sens_spec_etc' is not defined",
     "output_type": "error",
     "traceback": [
      "\u001b[1;31m---------------------------------------------------------------------------\u001b[0m",
      "\u001b[1;31mNameError\u001b[0m                                 Traceback (most recent call last)",
      "\u001b[1;32m<ipython-input-80-4c3d65a4516e>\u001b[0m in \u001b[0;36m<module>\u001b[1;34m\u001b[0m\n\u001b[0;32m      3\u001b[0m \u001b[0maucs\u001b[0m \u001b[1;33m=\u001b[0m \u001b[0mpd\u001b[0m\u001b[1;33m.\u001b[0m\u001b[0mSeries\u001b[0m\u001b[1;33m(\u001b[0m\u001b[1;33m{\u001b[0m\u001b[0mclass_name\u001b[0m\u001b[1;33m:\u001b[0m \u001b[0mroc_auc_score\u001b[0m\u001b[1;33m(\u001b[0m\u001b[0my_valid\u001b[0m\u001b[1;33m.\u001b[0m\u001b[0miloc\u001b[0m\u001b[1;33m[\u001b[0m\u001b[1;33m:\u001b[0m\u001b[1;33m,\u001b[0m\u001b[0mi\u001b[0m\u001b[1;33m]\u001b[0m\u001b[1;33m,\u001b[0m \u001b[0mprobs\u001b[0m\u001b[1;33m.\u001b[0m\u001b[0miloc\u001b[0m\u001b[1;33m[\u001b[0m\u001b[1;33m:\u001b[0m\u001b[1;33m,\u001b[0m\u001b[0mi\u001b[0m\u001b[1;33m]\u001b[0m\u001b[1;33m)\u001b[0m \u001b[1;32mfor\u001b[0m \u001b[0mi\u001b[0m\u001b[1;33m,\u001b[0m \u001b[0mclass_name\u001b[0m \u001b[1;32min\u001b[0m \u001b[0menumerate\u001b[0m\u001b[1;33m(\u001b[0m\u001b[0mprobs\u001b[0m\u001b[1;33m.\u001b[0m\u001b[0mcolumns\u001b[0m\u001b[1;33m)\u001b[0m\u001b[1;33m}\u001b[0m\u001b[1;33m,\u001b[0m \u001b[0mname\u001b[0m \u001b[1;33m=\u001b[0m \u001b[1;34m\"AUC\"\u001b[0m\u001b[1;33m)\u001b[0m\u001b[1;33m\u001b[0m\u001b[1;33m\u001b[0m\u001b[0m\n\u001b[0;32m      4\u001b[0m \u001b[1;33m\u001b[0m\u001b[0m\n\u001b[1;32m----> 5\u001b[1;33m \u001b[0mresults\u001b[0m \u001b[1;33m=\u001b[0m \u001b[0mpd\u001b[0m\u001b[1;33m.\u001b[0m\u001b[0mDataFrame\u001b[0m\u001b[1;33m(\u001b[0m\u001b[0msens_spec_etc\u001b[0m\u001b[1;33m(\u001b[0m\u001b[0mlb\u001b[0m\u001b[1;33m.\u001b[0m\u001b[0minverse_transform\u001b[0m\u001b[1;33m(\u001b[0m\u001b[0my_valid\u001b[0m\u001b[1;33m.\u001b[0m\u001b[0mvalues\u001b[0m\u001b[1;33m)\u001b[0m\u001b[1;33m,\u001b[0m \u001b[0mprobs\u001b[0m\u001b[1;33m.\u001b[0m\u001b[0midxmax\u001b[0m\u001b[1;33m(\u001b[0m\u001b[0maxis\u001b[0m \u001b[1;33m=\u001b[0m \u001b[1;36m1\u001b[0m\u001b[1;33m)\u001b[0m\u001b[1;33m)\u001b[0m\u001b[1;33m)\u001b[0m\u001b[1;33m.\u001b[0m\u001b[0mappend\u001b[0m\u001b[1;33m(\u001b[0m\u001b[0maucs\u001b[0m\u001b[1;33m)\u001b[0m\u001b[1;31m#, ignore_index = True)\u001b[0m\u001b[1;33m\u001b[0m\u001b[1;33m\u001b[0m\u001b[0m\n\u001b[0m",
      "\u001b[1;31mNameError\u001b[0m: name 'sens_spec_etc' is not defined"
     ]
    }
   ],
   "source": [
    "probs = bin_predict(X_valid.values, xgbinary_classifiers)\n",
    "\n",
    "aucs = pd.Series({class_name: roc_auc_score(y_valid.iloc[:,i], probs.iloc[:,i]) for i, class_name in enumerate(probs.columns)}, name = \"AUC\")\n",
    "\n",
    "results = pd.DataFrame(sens_spec_etc(lb.inverse_transform(y_valid.values), probs.idxmax(axis = 1))).append(aucs)#, ignore_index = True)"
   ]
  },
  {
   "cell_type": "code",
   "execution_count": 104,
   "metadata": {},
   "outputs": [],
   "source": [
    "from sklearn.metrics import confusion_matrix\n",
    "\n",
    "def sens_spec_etc(y_true, y_pred):\n",
    "    \n",
    "    assert len(np.unique(y_true)) == len(np.unique(y_pred)), \"True and predicted labels have different classes present\"\n",
    "\n",
    "    output = dict()\n",
    "    \n",
    "    for i, name in enumerate(np.unique(y_true)):\n",
    "        \n",
    "        stats = dict()\n",
    "        #todo add assert statement to ensure at least 1 example of each class\n",
    "        \n",
    "        conf_mat = confusion_matrix(y_true, y_pred)\n",
    "\n",
    "        stats[\"TP\"] = conf_mat[i,i].round(2)\n",
    "        stats[\"FP\"] = np.sum(conf_mat[:,i]) - stats[\"TP\"]\n",
    "        stats[\"FN\"] = np.sum(conf_mat[i,:]) - stats[\"TP\"]\n",
    "        stats[\"TN\"] = np.sum(conf_mat) - stats[\"TP\"] - stats[\"FP\"] - stats[\"FN\"]\n",
    "        \n",
    "        stats[\"Sensitivity\"] = stats[\"TP\"]/(stats[\"TP\"] + stats[\"FN\"])\n",
    "        stats[\"Specficity\"] = stats[\"TN\"]/(stats[\"TN\"] + stats[\"FP\"])\n",
    "        stats[\"F1\"] = 2*stats[\"TP\"]/(2*stats[\"TP\"] + stats[\"FN\"] + stats[\"FP\"])\n",
    "        stats[\"J\"] = stats[\"Sensitivity\"] + stats[\"Specficity\"] - 1\n",
    "        \n",
    "        output[name] = stats\n",
    "        \n",
    "    return pd.DataFrame(output)\n",
    "    \n",
    "    "
   ]
  },
  {
   "cell_type": "code",
   "execution_count": 105,
   "metadata": {},
   "outputs": [
    {
     "data": {
      "text/html": [
       "<div>\n",
       "<style scoped>\n",
       "    .dataframe tbody tr th:only-of-type {\n",
       "        vertical-align: middle;\n",
       "    }\n",
       "\n",
       "    .dataframe tbody tr th {\n",
       "        vertical-align: top;\n",
       "    }\n",
       "\n",
       "    .dataframe thead th {\n",
       "        text-align: right;\n",
       "    }\n",
       "</style>\n",
       "<table border=\"1\" class=\"dataframe\">\n",
       "  <thead>\n",
       "    <tr style=\"text-align: right;\">\n",
       "      <th></th>\n",
       "      <th>Malignant Epithelium</th>\n",
       "      <th>Malignant Stroma</th>\n",
       "      <th>Non_malignant Epithelium</th>\n",
       "      <th>Non_malignant Stroma</th>\n",
       "    </tr>\n",
       "  </thead>\n",
       "  <tbody>\n",
       "    <tr>\n",
       "      <th>F1</th>\n",
       "      <td>0.803346</td>\n",
       "      <td>0.693638</td>\n",
       "      <td>0.316804</td>\n",
       "      <td>0.429421</td>\n",
       "    </tr>\n",
       "    <tr>\n",
       "      <th>FN</th>\n",
       "      <td>7977.000000</td>\n",
       "      <td>6041.000000</td>\n",
       "      <td>644.000000</td>\n",
       "      <td>1242.000000</td>\n",
       "    </tr>\n",
       "    <tr>\n",
       "      <th>FP</th>\n",
       "      <td>3025.000000</td>\n",
       "      <td>2251.000000</td>\n",
       "      <td>7650.000000</td>\n",
       "      <td>2978.000000</td>\n",
       "    </tr>\n",
       "    <tr>\n",
       "      <th>J</th>\n",
       "      <td>0.592763</td>\n",
       "      <td>0.545643</td>\n",
       "      <td>0.592062</td>\n",
       "      <td>0.499658</td>\n",
       "    </tr>\n",
       "    <tr>\n",
       "      <th>Sensitivity</th>\n",
       "      <td>0.738021</td>\n",
       "      <td>0.608439</td>\n",
       "      <td>0.749123</td>\n",
       "      <td>0.561131</td>\n",
       "    </tr>\n",
       "    <tr>\n",
       "      <th>Specficity</th>\n",
       "      <td>0.854742</td>\n",
       "      <td>0.937204</td>\n",
       "      <td>0.842938</td>\n",
       "      <td>0.938527</td>\n",
       "    </tr>\n",
       "    <tr>\n",
       "      <th>TN</th>\n",
       "      <td>17800.000000</td>\n",
       "      <td>33595.000000</td>\n",
       "      <td>41057.000000</td>\n",
       "      <td>45466.000000</td>\n",
       "    </tr>\n",
       "    <tr>\n",
       "      <th>TP</th>\n",
       "      <td>22472.000000</td>\n",
       "      <td>9387.000000</td>\n",
       "      <td>1923.000000</td>\n",
       "      <td>1588.000000</td>\n",
       "    </tr>\n",
       "  </tbody>\n",
       "</table>\n",
       "</div>"
      ],
      "text/plain": [
       "             Malignant Epithelium  Malignant Stroma  Non_malignant Epithelium  \\\n",
       "F1                       0.803346          0.693638                  0.316804   \n",
       "FN                    7977.000000       6041.000000                644.000000   \n",
       "FP                    3025.000000       2251.000000               7650.000000   \n",
       "J                        0.592763          0.545643                  0.592062   \n",
       "Sensitivity              0.738021          0.608439                  0.749123   \n",
       "Specficity               0.854742          0.937204                  0.842938   \n",
       "TN                   17800.000000      33595.000000              41057.000000   \n",
       "TP                   22472.000000       9387.000000               1923.000000   \n",
       "\n",
       "             Non_malignant Stroma  \n",
       "F1                       0.429421  \n",
       "FN                    1242.000000  \n",
       "FP                    2978.000000  \n",
       "J                        0.499658  \n",
       "Sensitivity              0.561131  \n",
       "Specficity               0.938527  \n",
       "TN                   45466.000000  \n",
       "TP                    1588.000000  "
      ]
     },
     "execution_count": 105,
     "metadata": {},
     "output_type": "execute_result"
    }
   ],
   "source": [
    "sens_spec_etc(lb.inverse_transform(y_valid.values), probs.idxmax(axis = 1))"
   ]
  },
  {
   "cell_type": "code",
   "execution_count": 332,
   "metadata": {
    "collapsed": true
   },
   "outputs": [],
   "source": [
    "import itertools\n",
    "\n",
    "def conf_mat_analyse(conf_mat, column_title, labels):\n",
    "    \n",
    "    stats = dict()\n",
    "    stats = []\n",
    "    \n",
    "    n_classes = conf_mat.shape[0]\n",
    "    \n",
    "    for i, name in enumerate(labels):\n",
    "        #todo add assert statement to ensure at least 1 example of each class\n",
    "\n",
    "        TP = conf_mat[i,i]\n",
    "        FP = np.sum(conf_mat[:,i]) - TP\n",
    "        FN = np.sum(conf_mat[i,:]) - TP\n",
    "        TN = np.sum(conf_mat) - TP - FP - FN\n",
    "\n",
    "        stats.append([name,TP,TN,FP,FN])\n",
    "        \n",
    "    df = pd.DataFrame(stats, columns = [column_title,\"TP\",\"TN\",\"FP\",\"FN\"])\n",
    "    \n",
    "    df[\"Acc\"] = df.apply(lambda row: (row[\"TP\"] + row[\"TN\"])/(row[\"TP\"] + row[\"TN\"] + row[\"FP\"] + row[\"FN\"])*100, axis = 1)\n",
    "\n",
    "    try: df[\"Sens\"] = df.apply(lambda row: row[\"TP\"]/(row[\"TP\"] + row[\"FN\"])*100, axis = 1)\n",
    "        \n",
    "    except: df[\"Sens\"] = np.nan # Outputs NaN where there are no positive cases\n",
    "        \n",
    "    df[\"Spec\"] = df.apply(lambda row: row[\"TN\"]/(row[\"TN\"] + row[\"FP\"])*100, axis = 1)\n",
    "    \n",
    "    return df"
   ]
  },
  {
   "cell_type": "code",
   "execution_count": 83,
   "metadata": {},
   "outputs": [
    {
     "data": {
      "text/plain": [
       "array(['Non_malignant Epithelium', 'Malignant Epithelium',\n",
       "       'Malignant Epithelium', ..., 'Malignant Epithelium',\n",
       "       'Malignant Stroma', 'Malignant Stroma'], dtype='<U24')"
      ]
     },
     "execution_count": 83,
     "metadata": {},
     "output_type": "execute_result"
    }
   ],
   "source": [
    "lb.inverse_transform(y_valid.values)"
   ]
  },
  {
   "cell_type": "code",
   "execution_count": null,
   "metadata": {},
   "outputs": [],
   "source": [
    "results"
   ]
  },
  {
   "cell_type": "code",
   "execution_count": null,
   "metadata": {},
   "outputs": [],
   "source": [
    "import matplotlib as mpl\n",
    "\n",
    "print(mpl.get_configdir())\n",
    "plt.style.reload_library()\n",
    "plt.style.use('ScanCan_Style')"
   ]
  },
  {
   "cell_type": "code",
   "execution_count": null,
   "metadata": {},
   "outputs": [],
   "source": [
    "fig, axes = plt.subplots(nrows = len(xgbinary_classifiers), ncols = 1, figsize = (25,len(binary_classifiers)*10))\n",
    "\n",
    "#fig.suptitle(\"Relative wavenumber importances\", fontsize = 16)\n",
    "\n",
    "for title, plot, ax in zip(xgbinary_classifiers.keys(), xgbinary_classifiers.values(), axes.flatten()):\n",
    "    \n",
    "    ax.grid()\n",
    "    ax.bar(X.columns, plot.feature_importances_, width = 5)\n",
    "    #ax.set_xlim(min(X.columns), max(X.columns))\n",
    "    ax.set_title(title)\n",
    "    ax.invert_xaxis()\n",
    "    ax.set_xlabel(\"Wavenumber $(cm^{-1})$\")\n",
    "    \n",
    "plt.show()\n",
    "fig.savefig(r\"C:\\Users\\Conor\\Google Drive\\PhD\\Breast_Cancer_Analysis_April\\Feature_Importances_XGBoost.svg\"\n",
    "           ,format = \"svg\"\n",
    "           ,bbox_inches = \"tight\")"
   ]
  },
  {
   "cell_type": "markdown",
   "metadata": {},
   "source": [
    "# Hyperopt on other classifiers"
   ]
  },
  {
   "cell_type": "code",
   "execution_count": null,
   "metadata": {},
   "outputs": [],
   "source": [
    "def hyper_opt_search(clf, space, X, y, grouping, optimiser = tpe.suggest, random_state = 42, cores = 2, n_evals = 3):\n",
    "\n",
    "    from sklearn.model_selection import train_test_split, GroupKFold\n",
    "    from sklearn.metrics import roc_auc_score, confusion_matrix\n",
    "    \n",
    "    #X_train, X_test, y_train, y_test = train_test_split(X, y, test_size=0.2, random_state=42)\n",
    "\n",
    "    def score(params):\n",
    "        \n",
    "        loss_cv = []\n",
    "        \n",
    "        for train_index, test_index in GroupKFold(5).split(X, y, grouping):\n",
    "\n",
    "            X_train, Y_train = X[train_index], y[train_index]\n",
    "            X_test, Y_test = X[test_index], y[test_index]\n",
    "            \n",
    "            clf.fit(X_train, Y_train)\n",
    "\n",
    "            predictions = clf.predict_proba(X_test)\n",
    "            \n",
    "            #score = roc_auc_score(y[test_index], predictions[:,1])\n",
    "            score = j_normal(y[test_index], predictions[:,1])\n",
    "\n",
    "            loss = 1 - score\n",
    "            \n",
    "            loss_cv.append(loss)\n",
    "            \n",
    "        #print(\"\\tScore {0}\\n\\n\".format(1-loss))\n",
    "        return {'loss': loss.mean(), 'status': STATUS_OK}\n",
    "    \n",
    "    # Use the fmin function from Hyperopt to find the best hyperparameters\n",
    "    best = fmin(score, space, algo=tpe.suggest, \n",
    "                # trials=trials, \n",
    "                max_evals=n_evals)\n",
    "    return best"
   ]
  },
  {
   "cell_type": "code",
   "execution_count": null,
   "metadata": {},
   "outputs": [],
   "source": [
    "from sklearn.svm import SVC\n",
    "from sklearn.neighbors import KNeighborsClassifier\n",
    "from sklearn.ensemble import RandomForestClassifier\n",
    "from sklearn.discriminant_analysis import LinearDiscriminantAnalysis\n",
    "from sklearn.linear_model import LogisticRegression\n",
    "\n",
    "classifiers = {\n",
    "    \"SVM\": (SVC(probability = True, kernel = \"linear\", class_weight = \"balanced\", gamma = \"auto\"), \n",
    "            {'C': hp.loguniform(\"C\", np.log(1e-5), np.log(1e5))\n",
    "            })\n",
    "    \n",
    "    ,\"KNN\": (KNeighborsClassifier(),\n",
    "            {'n_neighbors': hp.choice('n_neighbors', np.arange(2, 30, dtype=int))\n",
    "            ,'leaf_size': hp.choice('leaf_size', np.arange(10,60, dtype = int))\n",
    "            ,'n_jobs': -1})\n",
    "    \n",
    "    ,\"RF\": (RandomForestClassifier(),\n",
    "            {'n_estimators ': hp.choice('n_estimators', np.arange(10,1000,5))\n",
    "            ,'max_depth': hp.choice('max_depth', np.arange(1,30,1))\n",
    "            ,'min_samples_split': hp.quniform('min_samples_split', 0.3, 1, 0.05)})\n",
    "    \n",
    "    ,\"LDA\": (LinearDiscriminantAnalysis(solver = \"lsqr\"),\n",
    "            {'eigen': hp.choice('shrinkage', [None, \"auto\"])})\n",
    "    \n",
    "    ,\"LR\": (LogisticRegression(class_weight = \"balanced\", n_jobs = -1),\n",
    "            {'C': hp.loguniform(\"C\", np.log(1e-5), np.log(1e5))})\n",
    "}"
   ]
  },
  {
   "cell_type": "code",
   "execution_count": null,
   "metadata": {},
   "outputs": [],
   "source": [
    "%time\n",
    "from sklearn.model_selection import train_test_split, GroupKFold\n",
    "from sklearn.base import clone\n",
    "\n",
    "# Dictionary to store the best classifier after optimisation\n",
    "classifier_results = dict()\n",
    "\n",
    "for clf_name, clf_u, params in zip(classifiers.keys(), list(zip(*classifiers.values()))[0], list(zip(*classifiers.values()))[1]):\n",
    "\n",
    "    # Dictionary to store the binary classifier for each class\n",
    "    binary_classifiers = dict()\n",
    "    \n",
    "    if clf_name in [\"KNN\", \"SVM\", \"RF\"] : continue\n",
    "\n",
    "    for i, name in enumerate(np.unique(Y)):\n",
    "        \n",
    "        clf = clone(clf_u)\n",
    "        print(\"\\n{}\".format(name))\n",
    "\n",
    "        best_hyperparams = hyper_opt_search(clf,\n",
    "                                            params,\n",
    "                                            X_train.values,\n",
    "                                            y_train[i].values,\n",
    "                                            X_train.reset_index()[\"Core\"],\n",
    "                                            optimiser = tpe.suggest,\n",
    "                                            random_state = 42,\n",
    "                                            cores = -1,\n",
    "                                            n_evals = 20)\n",
    "\n",
    "        ## TODO: append best classifier to dictionary, store any other\n",
    "        ## relevant variables with it. Use trials.\n",
    "\n",
    "        # Set the parameters which are best for that particular class\n",
    "        clf = clf.set_params(**best_hyperparams)\n",
    "        \n",
    "        clf.fit(X_train.values, y_train[i])\n",
    "        \n",
    "        binary_classifiers[name] = clf\n",
    "        \n",
    "    classifier_results[clf_name] = binary_classifiers"
   ]
  },
  {
   "cell_type": "code",
   "execution_count": null,
   "metadata": {},
   "outputs": [],
   "source": [
    "classifier_results.keys()"
   ]
  },
  {
   "cell_type": "code",
   "execution_count": null,
   "metadata": {},
   "outputs": [],
   "source": [
    "o_probs = bin_predict(X_valid.values, classifier_results[\"LDA\"])\n",
    "\n",
    "aucs = pd.Series({class_name: roc_auc_score(y_valid.iloc[:,i], o_probs.iloc[:,i]) for i, class_name in enumerate(o_probs.columns)}, name = \"AUC\")\n",
    "\n",
    "results = pd.DataFrame(sens_spec_etc(lb.inverse_transform(y_valid.values), o_probs.idxmax(axis = 1))).append(aucs)#, ignore_index = True)"
   ]
  },
  {
   "cell_type": "code",
   "execution_count": null,
   "metadata": {},
   "outputs": [],
   "source": [
    "results"
   ]
  },
  {
   "cell_type": "code",
   "execution_count": null,
   "metadata": {},
   "outputs": [],
   "source": [
    "def plot_importances(bin_classifiers, n_best = None):\n",
    "\n",
    "    fig, axes = plt.subplots(nrows = len(bin_classifiers), ncols = 1, figsize = (25,len(bin_classifiers)*10))\n",
    "\n",
    "    #fig.suptitle(\"Relative wavenumber importances\", fontsize = 16)\n",
    "\n",
    "    for title, clf, ax in zip(bin_classifiers.keys(), bin_classifiers.values(), axes.flatten()):\n",
    "\n",
    "        importances = pd.Series(abs(clf.coef_.reshape(164)), index = X_train.columns)\n",
    "\n",
    "        if n_best != None:\n",
    "            importances = importances.sort_values().iloc[:n_best]\n",
    "\n",
    "        ax.grid()\n",
    "        ax.bar(importances.index, importances.values, width = 5)\n",
    "\n",
    "        ticks = np.arange(min(X_train.columns), max(X_train.columns), 100)\n",
    "        ax.set_xlim(min(X.columns), max(X.columns))\n",
    "        ax.set_title(title)\n",
    "        ax.invert_xaxis()\n",
    "        ax.set_xlabel(\"Wavenumber $(cm^{-1})$\")\n",
    "        ax.set_xticks = ticks\n",
    "\n",
    "    return fig"
   ]
  },
  {
   "cell_type": "code",
   "execution_count": null,
   "metadata": {},
   "outputs": [],
   "source": [
    "for clf_name in [\"LDA\", \"LR\"]:\n",
    "    \n",
    "    fig = plot_importances(classifier_results[clf_name], n_best = None)\n",
    "\n",
    "    fig.savefig(r\"C:\\Users\\Conor\\Google Drive\\PhD\\Breast_Cancer_Analysis_April\\Feature_Importances_{}.svg\".format(clf_name)\n",
    "               ,format = \"svg\"\n",
    "               ,bbox_inches = \"tight\")"
   ]
  },
  {
   "cell_type": "markdown",
   "metadata": {},
   "source": [
    "This function is used to optimise the hyperparameters of XGboost"
   ]
  },
  {
   "cell_type": "markdown",
   "metadata": {},
   "source": [
    "# Importing Breast Cancer data"
   ]
  },
  {
   "cell_type": "code",
   "execution_count": null,
   "metadata": {},
   "outputs": [],
   "source": [
    "from sklearn.preprocessing import normalize\n",
    "\n",
    "def import_image(original):\n",
    "    \n",
    "    image = original.reshape(original.shape[-1], -1)\n",
    "\n",
    "    return normalize(image, axis = 0, norm = \"l1\").reshape(original.shape)"
   ]
  },
  {
   "cell_type": "code",
   "execution_count": null,
   "metadata": {},
   "outputs": [],
   "source": [
    "import os\n",
    "from scipy.io import loadmat\n",
    "\n",
    "file_place = r\"B:\\Breast Cancer Data\\br20832_cores\\br20832_cores\"\n",
    "file_list = os.listdir(file_place)\n",
    "\n",
    "image_list_directory = r\"B:\\Breast Cancer Data\\overlay\\overlay\"\n",
    "image_list = os.listdir(image_list_directory)\n",
    "\n",
    "images = {file_name[:-4] : import_image(loadmat(os.path.join(file_place, file_name))[\"image\"]) for file_name in file_list[:3]}"
   ]
  },
  {
   "cell_type": "code",
   "execution_count": null,
   "metadata": {},
   "outputs": [],
   "source": [
    "import os\n",
    "from scipy.io import loadmat\n",
    "\n",
    "file_place = \"/mnt/hgfs/E/Breast Cancer Data/br20832_cores/br20832_cores\"\n",
    "file_list = os.listdir(file_place)\n",
    "\n",
    "image_list_directory = \"/mnt/hgfs/E/Breast Cancer Data/overlay/overlay\"\n",
    "image_list = os.listdir(image_list_directory)\n",
    "\n",
    "images = {file_name[:-4] : import_image(loadmat(os.path.join(file_place, file_name))[\"image\"]) for file_name in file_list[:3]}"
   ]
  },
  {
   "cell_type": "code",
   "execution_count": null,
   "metadata": {},
   "outputs": [],
   "source": [
    "import os\n",
    "from scipy.io import loadmat\n",
    "import imageio\n",
    "\n",
    "file_place = r\"E:\\Breast Cancer Data\\br20832_cores\\br20832_cores\"\n",
    "file_list = os.listdir(file_place)\n",
    "\n",
    "image_list_directory = r\"E:\\Breast Cancer Data\\overlay\\overlay\"\n",
    "image_list = os.listdir(image_list_directory)\n",
    "\n",
    "#overlays = {image_list[:-4] : imageio.imread(os.path.join(image_list_directory, image_name)) for image_name in image_list}\n",
    "\n",
    "images = {file_name[:-4] : loadmat(os.path.join(file_place, file_name))[\"image\"] for file_name in file_list[-20:-10]}"
   ]
  },
  {
   "cell_type": "code",
   "execution_count": null,
   "metadata": {},
   "outputs": [],
   "source": [
    "images.keys()"
   ]
  },
  {
   "cell_type": "markdown",
   "metadata": {},
   "source": [
    "# Preprocess image"
   ]
  },
  {
   "cell_type": "code",
   "execution_count": null,
   "metadata": {},
   "outputs": [],
   "source": [
    "image_ref = \"L5\"\n",
    "\n",
    "image = images[image_ref]\n",
    "#overlay = \n",
    "\n",
    "PCA_NR_Components = 5\n",
    "\n",
    "image_dataframe = pd.DataFrame(image.reshape(-1, image.shape[-1]), columns = Breast_DF_Mie.columns)\n",
    "\n",
    "dataframe = TAT.process_data(image_dataframe, paraffin = (1340,1490))\n",
    "\n",
    "PCA_reduced = TAT.PCA_denoise(dataframe, PCA_NR_Components)\n",
    "\n",
    "values = pipe.fit_transform(PCA_reduced.T).T\n",
    "\n",
    "image_P_list = pd.DataFrame(values, index = dataframe.index, columns = dataframe.columns)\n",
    "\n",
    "image_P = image_P_list.values.reshape(image.shape[0], image.shape[1], -1)"
   ]
  },
  {
   "cell_type": "markdown",
   "metadata": {},
   "source": [
    "# Plotting predictions for image"
   ]
  },
  {
   "cell_type": "code",
   "execution_count": null,
   "metadata": {},
   "outputs": [],
   "source": [
    "fig, axes = plt.subplots(ncols = len(binary_classifiers), nrows = 1, figsize = (15,10))\n",
    "\n",
    "pred_cube = individual_predictions(image_P, binary_classifiers)\n",
    "\n",
    "for ax, name, image in zip(axes.flat, pred_cube.keys(), pred_cube.values()):\n",
    "    \n",
    "    ax.set_title(name)\n",
    "    ax.imshow(image)\n",
    "    \n",
    "plt.show()"
   ]
  },
  {
   "cell_type": "code",
   "execution_count": null,
   "metadata": {},
   "outputs": [],
   "source": [
    "import matplotlib as mpl\n",
    "\n",
    "def individual_predictions(image, classifiers):\n",
    "    \n",
    "    Pred_cube = {name: classifier.predict_proba(image.reshape(-1, image.shape[-1]))[:,1].reshape(image.shape[0], image.shape[1]) for name, classifier in classifiers.items()}\n",
    "    \n",
    "    return Pred_cube\n",
    "\n",
    "def prediction_plot(image, classifiers, **kwargs):\n",
    "    \n",
    "    # Get colours from tab10 colour list\n",
    "    colours = dict(zip(classifiers.keys(), plt.get_cmap(\"tab10\").colors))\n",
    "    \n",
    "    # Prediction values for each \n",
    "    Pred_DF = pd.DataFrame({name: classifier.predict_proba(image.reshape(-1, image.shape[-1]))[:,1] for name, classifier in classifiers.items()})\n",
    "\n",
    "    Pred_DF[\"Winner_ID\"] = Pred_DF.idxmax(axis = 1)\n",
    "    Pred_DF[\"Winner_conf\"] = Pred_DF.max(axis = 1)\n",
    "\n",
    "    # RGB image\n",
    "    RGB = np.array([colours[ID] for ID in Pred_DF[\"Winner_ID\"]]).reshape(image.shape[0], image.shape[1], 3)\n",
    "    \n",
    "    # Confidence plot\n",
    "    conf = Pred_DF[\"Winner_conf\"].values.reshape(image.shape[0], image.shape[1], 1)\n",
    "    \n",
    "    # RGBA plot\n",
    "    rgba = np.concatenate([RGB,conf], axis = 2)\n",
    "    cmap = mpl.colors.LinearSegmentedColormap.from_list('Custom cmap', list(colours.values()), N = len(colours))\n",
    "    \n",
    "    # If a threshold is supplied, use it\n",
    "    if \"thresh\" in kwargs.keys():\n",
    "        rgba[np.abs(image_P.mean(axis = 2)) < kwargs.get(\"thresh\")] = [0,0,0,0]\n",
    "        \n",
    "    fig, ax = plt.subplots()\n",
    "    cax = ax.imshow(rgba, cmap = cmap)\n",
    "    cbar = fig.colorbar(cax, ticks = np.linspace(0, 1, len(classifiers)))\n",
    "    cbar.ax.set_yticklabels(classifiers.keys())  # horizontal colorbar\n",
    "    \n",
    "    return rgba, conf.reshape(conf.shape[0],conf.shape[1])"
   ]
  },
  {
   "cell_type": "code",
   "execution_count": null,
   "metadata": {},
   "outputs": [],
   "source": [
    "from skimage.filters import threshold_otsu"
   ]
  },
  {
   "cell_type": "code",
   "execution_count": null,
   "metadata": {},
   "outputs": [],
   "source": [
    "rgba, conf = prediction_plot(image_P, classifier_results[\"LDA\"], thresh = threshold_otsu(image_P.mean(axis = 2)))"
   ]
  },
  {
   "cell_type": "code",
   "execution_count": null,
   "metadata": {},
   "outputs": [],
   "source": [
    "rgba, conf = prediction_plot(image_P, classifier_results[\"LR\"], thresh = threshold_otsu(image_P.mean(axis = 2)))"
   ]
  },
  {
   "cell_type": "code",
   "execution_count": null,
   "metadata": {},
   "outputs": [],
   "source": [
    "rgba, conf = prediction_plot(image_P, xgbinary_classifiers, thresh = threshold_otsu(image_P.mean(axis = 2)))"
   ]
  }
 ],
 "metadata": {
  "kernelspec": {
   "display_name": "Python 3",
   "language": "python",
   "name": "python3"
  },
  "language_info": {
   "codemirror_mode": {
    "name": "ipython",
    "version": 3
   },
   "file_extension": ".py",
   "mimetype": "text/x-python",
   "name": "python",
   "nbconvert_exporter": "python",
   "pygments_lexer": "ipython3",
   "version": "3.6.8"
  }
 },
 "nbformat": 4,
 "nbformat_minor": 2
}
