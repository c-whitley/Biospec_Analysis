{
 "cells": [
  {
   "cell_type": "code",
   "execution_count": 1,
   "metadata": {
    "collapsed": true
   },
   "outputs": [],
   "source": [
    "%load_ext autoreload\n",
    "\n",
    "%autoreload 2"
   ]
  },
  {
   "cell_type": "code",
   "execution_count": 2,
   "metadata": {
    "scrolled": true
   },
   "outputs": [],
   "source": [
    "import numpy as np\n",
    "import pandas as pd\n",
    "import matplotlib.pyplot as plt\n",
    "\n",
    "from mpl_toolkits.mplot3d import Axes3D"
   ]
  },
  {
   "cell_type": "code",
   "execution_count": 3,
   "metadata": {},
   "outputs": [],
   "source": [
    "import os.path\n",
    "\n",
    "file_place = r\"/mnt/hgfs/E/DataSets\"\n",
    "\n",
    "Breast_DF = pd.read_pickle(os.path.join(file_place,\"Breast_data_raw\"))"
   ]
  },
  {
   "cell_type": "code",
   "execution_count": 4,
   "metadata": {
    "scrolled": false
   },
   "outputs": [
    {
     "data": {
      "text/html": [
       "<div>\n",
       "<style scoped>\n",
       "    .dataframe tbody tr th:only-of-type {\n",
       "        vertical-align: middle;\n",
       "    }\n",
       "\n",
       "    .dataframe tbody tr th {\n",
       "        vertical-align: top;\n",
       "    }\n",
       "\n",
       "    .dataframe thead th {\n",
       "        text-align: right;\n",
       "    }\n",
       "</style>\n",
       "<table border=\"1\" class=\"dataframe\">\n",
       "  <thead>\n",
       "    <tr style=\"text-align: right;\">\n",
       "      <th></th>\n",
       "      <th></th>\n",
       "      <th></th>\n",
       "      <th></th>\n",
       "      <th></th>\n",
       "      <th></th>\n",
       "      <th></th>\n",
       "      <th></th>\n",
       "      <th></th>\n",
       "      <th>912</th>\n",
       "      <th>916</th>\n",
       "      <th>920</th>\n",
       "      <th>924</th>\n",
       "      <th>928</th>\n",
       "      <th>932</th>\n",
       "      <th>936</th>\n",
       "      <th>940</th>\n",
       "      <th>944</th>\n",
       "      <th>948</th>\n",
       "      <th>...</th>\n",
       "      <th>1764</th>\n",
       "      <th>1768</th>\n",
       "      <th>1772</th>\n",
       "      <th>1776</th>\n",
       "      <th>1780</th>\n",
       "      <th>1784</th>\n",
       "      <th>1788</th>\n",
       "      <th>1792</th>\n",
       "      <th>1796</th>\n",
       "      <th>1800</th>\n",
       "    </tr>\n",
       "    <tr>\n",
       "      <th>Sex</th>\n",
       "      <th>Diagnosis</th>\n",
       "      <th>Label</th>\n",
       "      <th>Core</th>\n",
       "      <th>Pathology</th>\n",
       "      <th>Stage</th>\n",
       "      <th>Type</th>\n",
       "      <th>Grade</th>\n",
       "      <th>Age</th>\n",
       "      <th></th>\n",
       "      <th></th>\n",
       "      <th></th>\n",
       "      <th></th>\n",
       "      <th></th>\n",
       "      <th></th>\n",
       "      <th></th>\n",
       "      <th></th>\n",
       "      <th></th>\n",
       "      <th></th>\n",
       "      <th></th>\n",
       "      <th></th>\n",
       "      <th></th>\n",
       "      <th></th>\n",
       "      <th></th>\n",
       "      <th></th>\n",
       "      <th></th>\n",
       "      <th></th>\n",
       "      <th></th>\n",
       "      <th></th>\n",
       "      <th></th>\n",
       "    </tr>\n",
       "  </thead>\n",
       "  <tbody>\n",
       "    <tr>\n",
       "      <th rowspan=\"5\" valign=\"top\">F</th>\n",
       "      <th rowspan=\"5\" valign=\"top\">Healthy</th>\n",
       "      <th rowspan=\"5\" valign=\"top\">Blood</th>\n",
       "      <th rowspan=\"5\" valign=\"top\">B4</th>\n",
       "      <th rowspan=\"5\" valign=\"top\">Invasive ductal carcinoma</th>\n",
       "      <th rowspan=\"5\" valign=\"top\">IIa</th>\n",
       "      <th rowspan=\"5\" valign=\"top\">Malignant</th>\n",
       "      <th rowspan=\"5\" valign=\"top\">1</th>\n",
       "      <th>40</th>\n",
       "      <td>0.094676</td>\n",
       "      <td>0.093373</td>\n",
       "      <td>0.095110</td>\n",
       "      <td>0.095545</td>\n",
       "      <td>0.096848</td>\n",
       "      <td>0.097282</td>\n",
       "      <td>0.095979</td>\n",
       "      <td>0.092505</td>\n",
       "      <td>0.086859</td>\n",
       "      <td>0.085556</td>\n",
       "      <td>...</td>\n",
       "      <td>0.138974</td>\n",
       "      <td>0.134197</td>\n",
       "      <td>0.137671</td>\n",
       "      <td>0.142014</td>\n",
       "      <td>0.145054</td>\n",
       "      <td>0.147226</td>\n",
       "      <td>0.145489</td>\n",
       "      <td>0.141146</td>\n",
       "      <td>0.141146</td>\n",
       "      <td>0.145489</td>\n",
       "    </tr>\n",
       "    <tr>\n",
       "      <th>40</th>\n",
       "      <td>0.094676</td>\n",
       "      <td>0.093808</td>\n",
       "      <td>0.095110</td>\n",
       "      <td>0.095545</td>\n",
       "      <td>0.096848</td>\n",
       "      <td>0.097282</td>\n",
       "      <td>0.096848</td>\n",
       "      <td>0.092505</td>\n",
       "      <td>0.086859</td>\n",
       "      <td>0.085556</td>\n",
       "      <td>...</td>\n",
       "      <td>0.135066</td>\n",
       "      <td>0.130723</td>\n",
       "      <td>0.133328</td>\n",
       "      <td>0.138106</td>\n",
       "      <td>0.140711</td>\n",
       "      <td>0.142883</td>\n",
       "      <td>0.141146</td>\n",
       "      <td>0.137671</td>\n",
       "      <td>0.137671</td>\n",
       "      <td>0.141146</td>\n",
       "    </tr>\n",
       "    <tr>\n",
       "      <th>40</th>\n",
       "      <td>0.095110</td>\n",
       "      <td>0.093808</td>\n",
       "      <td>0.095545</td>\n",
       "      <td>0.095979</td>\n",
       "      <td>0.097282</td>\n",
       "      <td>0.097716</td>\n",
       "      <td>0.096848</td>\n",
       "      <td>0.092939</td>\n",
       "      <td>0.087727</td>\n",
       "      <td>0.085556</td>\n",
       "      <td>...</td>\n",
       "      <td>0.123774</td>\n",
       "      <td>0.118997</td>\n",
       "      <td>0.122037</td>\n",
       "      <td>0.125945</td>\n",
       "      <td>0.127683</td>\n",
       "      <td>0.130723</td>\n",
       "      <td>0.128985</td>\n",
       "      <td>0.125511</td>\n",
       "      <td>0.124643</td>\n",
       "      <td>0.128985</td>\n",
       "    </tr>\n",
       "    <tr>\n",
       "      <th>40</th>\n",
       "      <td>0.095979</td>\n",
       "      <td>0.095110</td>\n",
       "      <td>0.096848</td>\n",
       "      <td>0.097282</td>\n",
       "      <td>0.098151</td>\n",
       "      <td>0.099019</td>\n",
       "      <td>0.097716</td>\n",
       "      <td>0.093373</td>\n",
       "      <td>0.088162</td>\n",
       "      <td>0.085990</td>\n",
       "      <td>...</td>\n",
       "      <td>0.105534</td>\n",
       "      <td>0.099888</td>\n",
       "      <td>0.102059</td>\n",
       "      <td>0.105968</td>\n",
       "      <td>0.106402</td>\n",
       "      <td>0.109442</td>\n",
       "      <td>0.107705</td>\n",
       "      <td>0.104231</td>\n",
       "      <td>0.104231</td>\n",
       "      <td>0.108139</td>\n",
       "    </tr>\n",
       "    <tr>\n",
       "      <th>40</th>\n",
       "      <td>0.097282</td>\n",
       "      <td>0.095979</td>\n",
       "      <td>0.097716</td>\n",
       "      <td>0.099019</td>\n",
       "      <td>0.099888</td>\n",
       "      <td>0.100322</td>\n",
       "      <td>0.099019</td>\n",
       "      <td>0.094676</td>\n",
       "      <td>0.089030</td>\n",
       "      <td>0.086859</td>\n",
       "      <td>...</td>\n",
       "      <td>0.081647</td>\n",
       "      <td>0.075567</td>\n",
       "      <td>0.077739</td>\n",
       "      <td>0.080344</td>\n",
       "      <td>0.079476</td>\n",
       "      <td>0.081647</td>\n",
       "      <td>0.080344</td>\n",
       "      <td>0.076870</td>\n",
       "      <td>0.076436</td>\n",
       "      <td>0.080344</td>\n",
       "    </tr>\n",
       "  </tbody>\n",
       "</table>\n",
       "<p>5 rows × 223 columns</p>\n",
       "</div>"
      ],
      "text/plain": [
       "                                                                                  912   \\\n",
       "Sex Diagnosis Label Core Pathology                 Stage Type      Grade Age             \n",
       "F   Healthy   Blood B4   Invasive ductal carcinoma IIa   Malignant 1     40   0.094676   \n",
       "                                                                         40   0.094676   \n",
       "                                                                         40   0.095110   \n",
       "                                                                         40   0.095979   \n",
       "                                                                         40   0.097282   \n",
       "\n",
       "                                                                                  916   \\\n",
       "Sex Diagnosis Label Core Pathology                 Stage Type      Grade Age             \n",
       "F   Healthy   Blood B4   Invasive ductal carcinoma IIa   Malignant 1     40   0.093373   \n",
       "                                                                         40   0.093808   \n",
       "                                                                         40   0.093808   \n",
       "                                                                         40   0.095110   \n",
       "                                                                         40   0.095979   \n",
       "\n",
       "                                                                                  920   \\\n",
       "Sex Diagnosis Label Core Pathology                 Stage Type      Grade Age             \n",
       "F   Healthy   Blood B4   Invasive ductal carcinoma IIa   Malignant 1     40   0.095110   \n",
       "                                                                         40   0.095110   \n",
       "                                                                         40   0.095545   \n",
       "                                                                         40   0.096848   \n",
       "                                                                         40   0.097716   \n",
       "\n",
       "                                                                                  924   \\\n",
       "Sex Diagnosis Label Core Pathology                 Stage Type      Grade Age             \n",
       "F   Healthy   Blood B4   Invasive ductal carcinoma IIa   Malignant 1     40   0.095545   \n",
       "                                                                         40   0.095545   \n",
       "                                                                         40   0.095979   \n",
       "                                                                         40   0.097282   \n",
       "                                                                         40   0.099019   \n",
       "\n",
       "                                                                                  928   \\\n",
       "Sex Diagnosis Label Core Pathology                 Stage Type      Grade Age             \n",
       "F   Healthy   Blood B4   Invasive ductal carcinoma IIa   Malignant 1     40   0.096848   \n",
       "                                                                         40   0.096848   \n",
       "                                                                         40   0.097282   \n",
       "                                                                         40   0.098151   \n",
       "                                                                         40   0.099888   \n",
       "\n",
       "                                                                                  932   \\\n",
       "Sex Diagnosis Label Core Pathology                 Stage Type      Grade Age             \n",
       "F   Healthy   Blood B4   Invasive ductal carcinoma IIa   Malignant 1     40   0.097282   \n",
       "                                                                         40   0.097282   \n",
       "                                                                         40   0.097716   \n",
       "                                                                         40   0.099019   \n",
       "                                                                         40   0.100322   \n",
       "\n",
       "                                                                                  936   \\\n",
       "Sex Diagnosis Label Core Pathology                 Stage Type      Grade Age             \n",
       "F   Healthy   Blood B4   Invasive ductal carcinoma IIa   Malignant 1     40   0.095979   \n",
       "                                                                         40   0.096848   \n",
       "                                                                         40   0.096848   \n",
       "                                                                         40   0.097716   \n",
       "                                                                         40   0.099019   \n",
       "\n",
       "                                                                                  940   \\\n",
       "Sex Diagnosis Label Core Pathology                 Stage Type      Grade Age             \n",
       "F   Healthy   Blood B4   Invasive ductal carcinoma IIa   Malignant 1     40   0.092505   \n",
       "                                                                         40   0.092505   \n",
       "                                                                         40   0.092939   \n",
       "                                                                         40   0.093373   \n",
       "                                                                         40   0.094676   \n",
       "\n",
       "                                                                                  944   \\\n",
       "Sex Diagnosis Label Core Pathology                 Stage Type      Grade Age             \n",
       "F   Healthy   Blood B4   Invasive ductal carcinoma IIa   Malignant 1     40   0.086859   \n",
       "                                                                         40   0.086859   \n",
       "                                                                         40   0.087727   \n",
       "                                                                         40   0.088162   \n",
       "                                                                         40   0.089030   \n",
       "\n",
       "                                                                                  948   \\\n",
       "Sex Diagnosis Label Core Pathology                 Stage Type      Grade Age             \n",
       "F   Healthy   Blood B4   Invasive ductal carcinoma IIa   Malignant 1     40   0.085556   \n",
       "                                                                         40   0.085556   \n",
       "                                                                         40   0.085556   \n",
       "                                                                         40   0.085990   \n",
       "                                                                         40   0.086859   \n",
       "\n",
       "                                                                                ...     \\\n",
       "Sex Diagnosis Label Core Pathology                 Stage Type      Grade Age    ...      \n",
       "F   Healthy   Blood B4   Invasive ductal carcinoma IIa   Malignant 1     40     ...      \n",
       "                                                                         40     ...      \n",
       "                                                                         40     ...      \n",
       "                                                                         40     ...      \n",
       "                                                                         40     ...      \n",
       "\n",
       "                                                                                  1764  \\\n",
       "Sex Diagnosis Label Core Pathology                 Stage Type      Grade Age             \n",
       "F   Healthy   Blood B4   Invasive ductal carcinoma IIa   Malignant 1     40   0.138974   \n",
       "                                                                         40   0.135066   \n",
       "                                                                         40   0.123774   \n",
       "                                                                         40   0.105534   \n",
       "                                                                         40   0.081647   \n",
       "\n",
       "                                                                                  1768  \\\n",
       "Sex Diagnosis Label Core Pathology                 Stage Type      Grade Age             \n",
       "F   Healthy   Blood B4   Invasive ductal carcinoma IIa   Malignant 1     40   0.134197   \n",
       "                                                                         40   0.130723   \n",
       "                                                                         40   0.118997   \n",
       "                                                                         40   0.099888   \n",
       "                                                                         40   0.075567   \n",
       "\n",
       "                                                                                  1772  \\\n",
       "Sex Diagnosis Label Core Pathology                 Stage Type      Grade Age             \n",
       "F   Healthy   Blood B4   Invasive ductal carcinoma IIa   Malignant 1     40   0.137671   \n",
       "                                                                         40   0.133328   \n",
       "                                                                         40   0.122037   \n",
       "                                                                         40   0.102059   \n",
       "                                                                         40   0.077739   \n",
       "\n",
       "                                                                                  1776  \\\n",
       "Sex Diagnosis Label Core Pathology                 Stage Type      Grade Age             \n",
       "F   Healthy   Blood B4   Invasive ductal carcinoma IIa   Malignant 1     40   0.142014   \n",
       "                                                                         40   0.138106   \n",
       "                                                                         40   0.125945   \n",
       "                                                                         40   0.105968   \n",
       "                                                                         40   0.080344   \n",
       "\n",
       "                                                                                  1780  \\\n",
       "Sex Diagnosis Label Core Pathology                 Stage Type      Grade Age             \n",
       "F   Healthy   Blood B4   Invasive ductal carcinoma IIa   Malignant 1     40   0.145054   \n",
       "                                                                         40   0.140711   \n",
       "                                                                         40   0.127683   \n",
       "                                                                         40   0.106402   \n",
       "                                                                         40   0.079476   \n",
       "\n",
       "                                                                                  1784  \\\n",
       "Sex Diagnosis Label Core Pathology                 Stage Type      Grade Age             \n",
       "F   Healthy   Blood B4   Invasive ductal carcinoma IIa   Malignant 1     40   0.147226   \n",
       "                                                                         40   0.142883   \n",
       "                                                                         40   0.130723   \n",
       "                                                                         40   0.109442   \n",
       "                                                                         40   0.081647   \n",
       "\n",
       "                                                                                  1788  \\\n",
       "Sex Diagnosis Label Core Pathology                 Stage Type      Grade Age             \n",
       "F   Healthy   Blood B4   Invasive ductal carcinoma IIa   Malignant 1     40   0.145489   \n",
       "                                                                         40   0.141146   \n",
       "                                                                         40   0.128985   \n",
       "                                                                         40   0.107705   \n",
       "                                                                         40   0.080344   \n",
       "\n",
       "                                                                                  1792  \\\n",
       "Sex Diagnosis Label Core Pathology                 Stage Type      Grade Age             \n",
       "F   Healthy   Blood B4   Invasive ductal carcinoma IIa   Malignant 1     40   0.141146   \n",
       "                                                                         40   0.137671   \n",
       "                                                                         40   0.125511   \n",
       "                                                                         40   0.104231   \n",
       "                                                                         40   0.076870   \n",
       "\n",
       "                                                                                  1796  \\\n",
       "Sex Diagnosis Label Core Pathology                 Stage Type      Grade Age             \n",
       "F   Healthy   Blood B4   Invasive ductal carcinoma IIa   Malignant 1     40   0.141146   \n",
       "                                                                         40   0.137671   \n",
       "                                                                         40   0.124643   \n",
       "                                                                         40   0.104231   \n",
       "                                                                         40   0.076436   \n",
       "\n",
       "                                                                                  1800  \n",
       "Sex Diagnosis Label Core Pathology                 Stage Type      Grade Age            \n",
       "F   Healthy   Blood B4   Invasive ductal carcinoma IIa   Malignant 1     40   0.145489  \n",
       "                                                                         40   0.141146  \n",
       "                                                                         40   0.128985  \n",
       "                                                                         40   0.108139  \n",
       "                                                                         40   0.080344  \n",
       "\n",
       "[5 rows x 223 columns]"
      ]
     },
     "execution_count": 4,
     "metadata": {},
     "output_type": "execute_result"
    }
   ],
   "source": [
    "Breast_DF.head()"
   ]
  },
  {
   "cell_type": "markdown",
   "metadata": {},
   "source": [
    "# Preprocessing"
   ]
  },
  {
   "cell_type": "code",
   "execution_count": 5,
   "metadata": {
    "collapsed": true
   },
   "outputs": [],
   "source": [
    "from sklearn.pipeline import Pipeline, FeatureUnion\n",
    "from sklearn.preprocessing import Normalizer, StandardScaler, MinMaxScaler, RobustScaler\n",
    "\n",
    "steps = [\n",
    "         (\"Normalise\", Normalizer(norm = \"l1\"))\n",
    "         #(\"RobustScaler\", RobustScaler())\n",
    "        ]\n",
    "\n",
    "pipe  = Pipeline(steps)"
   ]
  },
  {
   "cell_type": "code",
   "execution_count": 6,
   "metadata": {
    "scrolled": false
   },
   "outputs": [
    {
     "name": "stderr",
     "output_type": "stream",
     "text": [
      "/home/conor/anaconda3/lib/python3.7/site-packages/pandas/core/frame.py:3697: SettingWithCopyWarning: \n",
      "A value is trying to be set on a copy of a slice from a DataFrame\n",
      "\n",
      "See the caveats in the documentation: http://pandas.pydata.org/pandas-docs/stable/indexing.html#indexing-view-versus-copy\n",
      "  errors=errors)\n"
     ]
    }
   ],
   "source": [
    "import Tissue_Analysis_Tools as TAT\n",
    "\n",
    "PCA_NR_Components = 50\n",
    "\n",
    "dataframe = TAT.process_data(Breast_DF, paraffin = (1340,1490))#, balance = \"Type\")\n",
    "\n",
    "PCA_reduced = TAT.clean_spectra(dataframe, PCA_NR_Components)\n",
    "\n",
    "values = pipe.fit_transform(PCA_reduced)\n",
    "\n",
    "Breast_DF_P = pd.DataFrame(values, index = dataframe.index, columns = dataframe.columns)"
   ]
  },
  {
   "cell_type": "markdown",
   "metadata": {},
   "source": [
    "# Analysis"
   ]
  },
  {
   "cell_type": "code",
   "execution_count": 7,
   "metadata": {},
   "outputs": [],
   "source": [
    "from sklearn.preprocessing import LabelEncoder, LabelBinarizer\n",
    "\n",
    "le = LabelEncoder()\n",
    "lb = LabelBinarizer()\n",
    "\n",
    "DATA = Breast_DF_P#.sample(10000)\n",
    "\n",
    "y_label = \"Type\"\n",
    "\n",
    "X = DATA\n",
    "Y = DATA.reset_index()[y_label]\n",
    "lb.fit(Y)\n",
    "Y_b = lb.transform(Y)"
   ]
  },
  {
   "cell_type": "code",
   "execution_count": 8,
   "metadata": {},
   "outputs": [
    {
     "name": "stderr",
     "output_type": "stream",
     "text": [
      "/home/conor/anaconda3/lib/python3.7/site-packages/matplotlib/font_manager.py:1241: UserWarning: findfont: Font family ['normal'] not found. Falling back to DejaVu Sans.\n",
      "  (prop.get_family(), self.defaultFamily[fontext]))\n"
     ]
    },
    {
     "data": {
      "image/png": "[encoded data removed]",
      "text/plain": [
       "<Figure size 432x288 with 1 Axes>"
      ]
     },
     "metadata": {
      "needs_background": "light"
     },
     "output_type": "display_data"
    }
   ],
   "source": [
    "plt.clf()\n",
    "\n",
    "for name, df in Breast_DF_P.groupby(level = y_label):\n",
    "    \n",
    "    plt.plot(df.mean(axis = 0), label = name)\n",
    "\n",
    "plt.ylabel(\"Absorbance (a.u)\")\n",
    "plt.xlabel(\"Wavenumber $(cm^{-1})$\")\n",
    "plt.gca().invert_xaxis()\n",
    "plt.legend()\n",
    "plt.show()"
   ]
  },
  {
   "cell_type": "code",
   "execution_count": 9,
   "metadata": {},
   "outputs": [],
   "source": [
    "param_dict = {\"NAT\": {'colsample_bytree': 0.5344632970043641, 'learning_rate': 0.06617275235998737, 'max_depth': 4, 'min_child_weight': 3, 'n_estimators': 450, 'subsample': 0.470587311790687}\n",
    "             ,\"Malignant\": {'colsample_bytree': 0.5874930803453049, 'learning_rate': 0.07747354115336803, 'max_depth': 8, 'min_child_weight': 1, 'n_estimators': 434, 'subsample': 0.5507688768113341}\n",
    "             ,\"Normal\": {'colsample_bytree': 0.5534332713214647, 'learning_rate': 0.06321150495968879, 'max_depth': 3, 'min_child_weight': 3, 'n_estimators': 453, 'subsample': 0.5748281161442726}}"
   ]
  },
  {
   "cell_type": "code",
   "execution_count": 10,
   "metadata": {},
   "outputs": [],
   "source": [
    "import xgboost as xgb\n",
    "\n",
    "binary_classifiers = dict()\n",
    "\n",
    "for i, name in enumerate(np.unique(Y)):\n",
    "\n",
    "    # Find out the ratio of positive classes to negative to scale positive weights.\n",
    "    # Allows for compensation of unbalanced classes without throwing away data.\n",
    "\n",
    "    pos_ratio = 1/(np.sum(Y_b[:,i])/Y_b[:,i].shape[0])\n",
    "\n",
    "    clf_xgb = xgb.XGBClassifier(objective = \"binary:logistic\", n_classes = 2, n_jobs = -1, scale_pos_weight = pos_ratio)\n",
    "    \n",
    "    # Set the parameters which are best for that particular class\n",
    "    clf_xgb.set_params(**param_dict[name])\n",
    "    clf_xgb.fit(X,Y_b[:,i])\n",
    "\n",
    "    binary_classifiers[name] = clf_xgb"
   ]
  },
  {
   "cell_type": "markdown",
   "metadata": {},
   "source": [
    "# Importing Breast Cancer data"
   ]
  },
  {
   "cell_type": "code",
   "execution_count": 11,
   "metadata": {},
   "outputs": [],
   "source": [
    "from sklearn.preprocessing import normalize\n",
    "\n",
    "def import_image(original):\n",
    "    \n",
    "    image = original.reshape(original.shape[-1], -1)\n",
    "\n",
    "    return normalize(image, axis = 0).reshape(original.shape)"
   ]
  },
  {
   "cell_type": "code",
   "execution_count": 12,
   "metadata": {},
   "outputs": [],
   "source": [
    "import os\n",
    "from scipy.io import loadmat\n",
    "\n",
    "file_place = \"/mnt/hgfs/E/Breast Cancer Data/br20832_cores/br20832_cores\"\n",
    "file_list = os.listdir(file_place)\n",
    "\n",
    "image_list_directory = \"/mnt/hgfs/E/Breast Cancer Data/overlay/overlay\"\n",
    "image_list = os.listdir(image_list_directory)\n",
    "\n",
    "images = {file_name[:-4] : import_image(loadmat(os.path.join(file_place, file_name))[\"image\"]) for file_name in file_list[:3]}"
   ]
  },
  {
   "cell_type": "code",
   "execution_count": 13,
   "metadata": {},
   "outputs": [
    {
     "data": {
      "text/plain": [
       "dict_keys(['A1', 'A10', 'A11'])"
      ]
     },
     "execution_count": 13,
     "metadata": {},
     "output_type": "execute_result"
    }
   ],
   "source": [
    "images.keys()"
   ]
  },
  {
   "cell_type": "code",
   "execution_count": 14,
   "metadata": {},
   "outputs": [],
   "source": [
    "image = images[\"A1\"]\n",
    "\n",
    "predictions = {name: classifier.predict_proba(image.reshape(-1, image.shape[-1]), validate_features = False)[:,0] for name, classifier in binary_classifiers.items()}"
   ]
  },
  {
   "cell_type": "code",
   "execution_count": 15,
   "metadata": {},
   "outputs": [
    {
     "data": {
      "text/plain": [
       "(97969, 223)"
      ]
     },
     "execution_count": 15,
     "metadata": {},
     "output_type": "execute_result"
    }
   ],
   "source": [
    "image.reshape(-1, image.shape[-1]).shape"
   ]
  },
  {
   "cell_type": "code",
   "execution_count": 16,
   "metadata": {},
   "outputs": [],
   "source": [
    "Pred_DF = pd.DataFrame(predictions)"
   ]
  },
  {
   "cell_type": "code",
   "execution_count": 17,
   "metadata": {},
   "outputs": [
    {
     "data": {
      "text/plain": [
       "(97969,)"
      ]
     },
     "execution_count": 17,
     "metadata": {},
     "output_type": "execute_result"
    }
   ],
   "source": [
    "predictions[\"NAT\"].shape"
   ]
  },
  {
   "cell_type": "code",
   "execution_count": 18,
   "metadata": {},
   "outputs": [
    {
     "data": {
      "text/html": [
       "<div>\n",
       "<style scoped>\n",
       "    .dataframe tbody tr th:only-of-type {\n",
       "        vertical-align: middle;\n",
       "    }\n",
       "\n",
       "    .dataframe tbody tr th {\n",
       "        vertical-align: top;\n",
       "    }\n",
       "\n",
       "    .dataframe thead th {\n",
       "        text-align: right;\n",
       "    }\n",
       "</style>\n",
       "<table border=\"1\" class=\"dataframe\">\n",
       "  <thead>\n",
       "    <tr style=\"text-align: right;\">\n",
       "      <th></th>\n",
       "      <th>Malignant</th>\n",
       "      <th>NAT</th>\n",
       "      <th>Normal</th>\n",
       "    </tr>\n",
       "  </thead>\n",
       "  <tbody>\n",
       "    <tr>\n",
       "      <th>0</th>\n",
       "      <td>0.038478</td>\n",
       "      <td>0.709733</td>\n",
       "      <td>0.180919</td>\n",
       "    </tr>\n",
       "    <tr>\n",
       "      <th>1</th>\n",
       "      <td>0.038478</td>\n",
       "      <td>0.709733</td>\n",
       "      <td>0.180919</td>\n",
       "    </tr>\n",
       "    <tr>\n",
       "      <th>2</th>\n",
       "      <td>0.038478</td>\n",
       "      <td>0.709733</td>\n",
       "      <td>0.180919</td>\n",
       "    </tr>\n",
       "    <tr>\n",
       "      <th>3</th>\n",
       "      <td>0.038478</td>\n",
       "      <td>0.709733</td>\n",
       "      <td>0.180919</td>\n",
       "    </tr>\n",
       "    <tr>\n",
       "      <th>4</th>\n",
       "      <td>0.038478</td>\n",
       "      <td>0.709733</td>\n",
       "      <td>0.180919</td>\n",
       "    </tr>\n",
       "  </tbody>\n",
       "</table>\n",
       "</div>"
      ],
      "text/plain": [
       "   Malignant       NAT    Normal\n",
       "0   0.038478  0.709733  0.180919\n",
       "1   0.038478  0.709733  0.180919\n",
       "2   0.038478  0.709733  0.180919\n",
       "3   0.038478  0.709733  0.180919\n",
       "4   0.038478  0.709733  0.180919"
      ]
     },
     "execution_count": 18,
     "metadata": {},
     "output_type": "execute_result"
    }
   ],
   "source": [
    "Pred_DF.head()"
   ]
  },
  {
   "cell_type": "code",
   "execution_count": 19,
   "metadata": {},
   "outputs": [],
   "source": [
    "#Pred_DF[\"Winner\"] = Pred_DF.idxmax(axis = 1)\n",
    "Pred_DF[\"Winner_ID\"] = Pred_DF.T.reset_index(drop = True).T.idxmax(axis = 1)"
   ]
  },
  {
   "cell_type": "code",
   "execution_count": 20,
   "metadata": {},
   "outputs": [
    {
     "data": {
      "text/plain": [
       "(313, 313)"
      ]
     },
     "execution_count": 20,
     "metadata": {},
     "output_type": "execute_result"
    }
   ],
   "source": [
    "predicted_image = Pred_DF[\"Winner_ID\"].values.reshape(image.shape[0], image.shape[1])\n",
    "\n",
    "predicted_image.shape"
   ]
  },
  {
   "cell_type": "code",
   "execution_count": 21,
   "metadata": {},
   "outputs": [
    {
     "data": {
      "image/png": "[encoded data removed]",
      "text/plain": [
       "<Figure size 432x288 with 1 Axes>"
      ]
     },
     "metadata": {
      "needs_background": "light"
     },
     "output_type": "display_data"
    }
   ],
   "source": [
    "plt.clf()\n",
    "plt.imshow(predicted_image, interpolation = None)\n",
    "plt.show()"
   ]
  }
 ],
 "metadata": {
  "kernelspec": {
   "display_name": "Python 3",
   "language": "python",
   "name": "python3"
  },
  "language_info": {
   "codemirror_mode": {
    "name": "ipython",
    "version": 3
   },
   "file_extension": ".py",
   "mimetype": "text/x-python",
   "name": "python",
   "nbconvert_exporter": "python",
   "pygments_lexer": "ipython3",
   "version": "3.7.1"
  }
 },
 "nbformat": 4,
 "nbformat_minor": 2
}
